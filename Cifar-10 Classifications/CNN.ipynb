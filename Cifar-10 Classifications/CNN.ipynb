{
 "cells": [
  {
   "cell_type": "code",
   "execution_count": 1,
   "id": "7e7993c6-74fe-404e-8bd3-43773898f7a5",
   "metadata": {},
   "outputs": [
    {
     "name": "stdout",
     "output_type": "stream",
     "text": [
      "WARNING:tensorflow:From C:\\Anaconda3\\Lib\\site-packages\\keras\\src\\losses.py:2976: The name tf.losses.sparse_softmax_cross_entropy is deprecated. Please use tf.compat.v1.losses.sparse_softmax_cross_entropy instead.\n",
      "\n"
     ]
    }
   ],
   "source": [
    "from tensorflow.keras.datasets import cifar10\n",
    "from tensorflow.keras.models import Sequential\n",
    "from tensorflow.keras.layers import Dense, Flatten, Conv2D, MaxPooling2D\n",
    "from tensorflow.keras.optimizers import Adam\n",
    "from tensorflow.keras.utils import to_categorical\n",
    "import matplotlib.pyplot as plt\n",
    "import seaborn as sns\n",
    "from sklearn.metrics import confusion_matrix\n",
    "import numpy as np"
   ]
  },
  {
   "cell_type": "code",
   "execution_count": 2,
   "id": "536d25eb-c7ee-4f9f-a616-18df3f84bf2e",
   "metadata": {},
   "outputs": [],
   "source": [
    "# Load dataset\n",
    "(x_train, y_train), (x_test, y_test) = cifar10.load_data()"
   ]
  },
  {
   "cell_type": "code",
   "execution_count": 3,
   "id": "7191040b-b2ce-4e85-8afa-60c226d1974e",
   "metadata": {},
   "outputs": [],
   "source": [
    "# Normalize data\n",
    "x_train = x_train.astype('float32') / 255.0\n",
    "x_test = x_test.astype('float32') / 255.0\n",
    "\n",
    "# Convert labels to one-hot encoding\n",
    "y_train_one_hot = to_categorical(y_train, 10)\n",
    "y_test_one_hot = to_categorical(y_test, 10)"
   ]
  },
  {
   "cell_type": "code",
   "execution_count": 4,
   "id": "dd15c11a-a154-4925-839e-84f86b3bd9c7",
   "metadata": {},
   "outputs": [
    {
     "name": "stdout",
     "output_type": "stream",
     "text": [
      "WARNING:tensorflow:From C:\\Anaconda3\\Lib\\site-packages\\keras\\src\\backend.py:873: The name tf.get_default_graph is deprecated. Please use tf.compat.v1.get_default_graph instead.\n",
      "\n",
      "WARNING:tensorflow:From C:\\Anaconda3\\Lib\\site-packages\\keras\\src\\layers\\pooling\\max_pooling2d.py:161: The name tf.nn.max_pool is deprecated. Please use tf.nn.max_pool2d instead.\n",
      "\n"
     ]
    }
   ],
   "source": [
    "# Define model architecture\n",
    "model_no_reg = Sequential([\n",
    "    Conv2D(32, (3, 3), activation='relu', input_shape=(32, 32, 3)),\n",
    "    MaxPooling2D((2, 2)),\n",
    "    Conv2D(64, (3, 3), activation='relu'),\n",
    "    MaxPooling2D((2, 2)),\n",
    "    Flatten(),\n",
    "    Dense(128, activation='relu'),\n",
    "    Dense(10, activation='softmax')\n",
    "])\n"
   ]
  },
  {
   "cell_type": "code",
   "execution_count": 5,
   "id": "4322cd8f-5dbb-4a80-b6e1-93be333d2a03",
   "metadata": {},
   "outputs": [],
   "source": [
    "# Compile model\n",
    "model_no_reg.compile(optimizer=Adam(), loss='categorical_crossentropy', metrics=['accuracy'])\n"
   ]
  },
  {
   "cell_type": "code",
   "execution_count": 6,
   "id": "9f233ad7-b0c8-4cca-94f6-5ae037503fe8",
   "metadata": {},
   "outputs": [
    {
     "name": "stdout",
     "output_type": "stream",
     "text": [
      "Epoch 1/10\n",
      "WARNING:tensorflow:From C:\\Anaconda3\\Lib\\site-packages\\keras\\src\\utils\\tf_utils.py:492: The name tf.ragged.RaggedTensorValue is deprecated. Please use tf.compat.v1.ragged.RaggedTensorValue instead.\n",
      "\n",
      "WARNING:tensorflow:From C:\\Anaconda3\\Lib\\site-packages\\keras\\src\\engine\\base_layer_utils.py:384: The name tf.executing_eagerly_outside_functions is deprecated. Please use tf.compat.v1.executing_eagerly_outside_functions instead.\n",
      "\n",
      "625/625 [==============================] - 23s 33ms/step - loss: 1.5328 - accuracy: 0.4473 - val_loss: 1.2941 - val_accuracy: 0.5392\n",
      "Epoch 2/10\n",
      "625/625 [==============================] - 21s 34ms/step - loss: 1.1712 - accuracy: 0.5854 - val_loss: 1.1479 - val_accuracy: 0.5975\n",
      "Epoch 3/10\n",
      "625/625 [==============================] - 21s 34ms/step - loss: 1.0363 - accuracy: 0.6366 - val_loss: 1.0194 - val_accuracy: 0.6453\n",
      "Epoch 4/10\n",
      "625/625 [==============================] - 19s 31ms/step - loss: 0.9364 - accuracy: 0.6744 - val_loss: 1.0043 - val_accuracy: 0.6551\n",
      "Epoch 5/10\n",
      "625/625 [==============================] - 18s 29ms/step - loss: 0.8650 - accuracy: 0.6998 - val_loss: 0.9700 - val_accuracy: 0.6638\n",
      "Epoch 6/10\n",
      "625/625 [==============================] - 19s 30ms/step - loss: 0.8024 - accuracy: 0.7191 - val_loss: 0.9398 - val_accuracy: 0.6785\n",
      "Epoch 7/10\n",
      "625/625 [==============================] - 19s 30ms/step - loss: 0.7390 - accuracy: 0.7430 - val_loss: 0.9128 - val_accuracy: 0.6846\n",
      "Epoch 8/10\n",
      "625/625 [==============================] - 19s 30ms/step - loss: 0.6824 - accuracy: 0.7634 - val_loss: 0.9456 - val_accuracy: 0.6818\n",
      "Epoch 9/10\n",
      "625/625 [==============================] - 20s 32ms/step - loss: 0.6361 - accuracy: 0.7783 - val_loss: 0.9218 - val_accuracy: 0.6931\n",
      "Epoch 10/10\n",
      "625/625 [==============================] - 19s 30ms/step - loss: 0.5829 - accuracy: 0.7973 - val_loss: 0.9204 - val_accuracy: 0.6967\n",
      "313/313 - 2s - loss: 0.9295 - accuracy: 0.7011 - 2s/epoch - 5ms/step\n",
      "Test accuracy without regularization: 70.11%\n"
     ]
    }
   ],
   "source": [
    "# Train model\n",
    "history_no_reg = model_no_reg.fit(x_train, y_train_one_hot, epochs=10, batch_size=64, validation_split=0.2)\n",
    "\n",
    "# Evaluate model\n",
    "test_loss_no_reg, test_acc_no_reg = model_no_reg.evaluate(x_test, y_test_one_hot, verbose=2)\n",
    "print(f'Test accuracy without regularization: {test_acc_no_reg * 100:.2f}%')"
   ]
  },
  {
   "cell_type": "code",
   "execution_count": 11,
   "id": "4b0dc984-3551-43d8-aea8-cbfa4bad1b94",
   "metadata": {},
   "outputs": [],
   "source": [
    "from tensorflow.keras.regularizers import l2\n",
    "\n",
    "# Define model with L2 regularization\n",
    "model_with_reg = Sequential([\n",
    "    Conv2D(32, (3, 3), activation='relu', input_shape=(32, 32, 3)),\n",
    "    MaxPooling2D((2, 2)),\n",
    "    Conv2D(64, (3, 3), activation='relu'),\n",
    "    MaxPooling2D((2, 2)),\n",
    "    Flatten(),\n",
    "    Dense(128, activation='relu', kernel_regularizer=l2(0.0001)),  # L2 regularization\n",
    "    Dense(10, activation='softmax')\n",
    "])"
   ]
  },
  {
   "cell_type": "code",
   "execution_count": 12,
   "id": "b2020874-1b8c-43c9-8c9a-712ffee96264",
   "metadata": {},
   "outputs": [],
   "source": [
    "# Compile model with regularization\n",
    "model_with_reg.compile(optimizer=Adam(), loss='categorical_crossentropy', metrics=['accuracy'])\n"
   ]
  },
  {
   "cell_type": "code",
   "execution_count": 13,
   "id": "b20f55ab-b848-4e78-a2d4-cfb278ca249e",
   "metadata": {},
   "outputs": [
    {
     "name": "stdout",
     "output_type": "stream",
     "text": [
      "Epoch 1/10\n",
      "625/625 [==============================] - 16s 25ms/step - loss: 1.5421 - accuracy: 0.4507 - val_loss: 1.2957 - val_accuracy: 0.5472\n",
      "Epoch 2/10\n",
      "625/625 [==============================] - 16s 26ms/step - loss: 1.2045 - accuracy: 0.5828 - val_loss: 1.1204 - val_accuracy: 0.6190\n",
      "Epoch 3/10\n",
      "625/625 [==============================] - 16s 26ms/step - loss: 1.0653 - accuracy: 0.6403 - val_loss: 1.0611 - val_accuracy: 0.6457\n",
      "Epoch 4/10\n",
      "625/625 [==============================] - 17s 27ms/step - loss: 0.9789 - accuracy: 0.6714 - val_loss: 1.0597 - val_accuracy: 0.6483\n",
      "Epoch 5/10\n",
      "625/625 [==============================] - 16s 26ms/step - loss: 0.9154 - accuracy: 0.6937 - val_loss: 1.0169 - val_accuracy: 0.6668\n",
      "Epoch 6/10\n",
      "625/625 [==============================] - 17s 27ms/step - loss: 0.8597 - accuracy: 0.7170 - val_loss: 1.0325 - val_accuracy: 0.6653\n",
      "Epoch 7/10\n",
      "625/625 [==============================] - 18s 28ms/step - loss: 0.8018 - accuracy: 0.7426 - val_loss: 0.9882 - val_accuracy: 0.6856\n",
      "Epoch 8/10\n",
      "625/625 [==============================] - 17s 27ms/step - loss: 0.7444 - accuracy: 0.7606 - val_loss: 0.9563 - val_accuracy: 0.6986\n",
      "Epoch 9/10\n",
      "625/625 [==============================] - 18s 29ms/step - loss: 0.6990 - accuracy: 0.7783 - val_loss: 0.9813 - val_accuracy: 0.6949\n",
      "Epoch 10/10\n",
      "625/625 [==============================] - 18s 29ms/step - loss: 0.6560 - accuracy: 0.7964 - val_loss: 1.0283 - val_accuracy: 0.6849\n",
      "313/313 - 2s - loss: 1.0327 - accuracy: 0.6852 - 2s/epoch - 5ms/step\n",
      "Test accuracy with regularization: 68.52%\n"
     ]
    }
   ],
   "source": [
    "# Train model with regularization\n",
    "history_with_reg = model_with_reg.fit(x_train, y_train_one_hot, epochs=10, batch_size=64, validation_split=0.2)\n",
    "\n",
    "# Evaluate model with regularization\n",
    "test_loss_with_reg, test_acc_with_reg = model_with_reg.evaluate(x_test, y_test_one_hot, verbose=2)\n",
    "print(f'Test accuracy with regularization: {test_acc_with_reg * 100:.2f}%')"
   ]
  },
  {
   "cell_type": "code",
   "execution_count": null,
   "id": "1e076695-e58e-4eb4-91b6-dfd15009a5df",
   "metadata": {},
   "outputs": [],
   "source": [
    "# Predictions without regularization\n",
    "y_pred_no_reg = model_no_reg.predict(x_test)\n",
    "y_pred_classes_no_reg = np.argmax(y_pred_no_reg, axis=1)\n",
    "y_true = y_test.squeeze()\n",
    "\n",
    "# Confusion matrix without regularization\n",
    "cm_no_reg = confusion_matrix(y_true, y_pred_classes_no_reg)"
   ]
  },
  {
   "cell_type": "code",
   "execution_count": null,
   "id": "ac204a86-b66b-407e-82f6-f4cacf60489c",
   "metadata": {},
   "outputs": [],
   "source": [
    "# Predictions with regularization\n",
    "y_pred_with_reg = model_with_reg.predict(x_test)\n",
    "y_pred_classes_with_reg = np.argmax(y_pred_with_reg, axis=1)\n",
    "\n",
    "# Confusion matrix with regularization\n",
    "cm_with_reg = confusion_matrix(y_true, y_pred_classes_with_reg)"
   ]
  },
  {
   "cell_type": "code",
   "execution_count": null,
   "id": "f674f0de-04ee-4327-aa26-dda56449c21b",
   "metadata": {},
   "outputs": [],
   "source": [
    "# Plotting\n",
    "plt.figure(figsize=(18, 8))\n",
    "\n",
    "# Without regularization\n",
    "plt.subplot(1, 2, 1)\n",
    "sns.heatmap(cm_no_reg, annot=True, fmt='d', cmap='Blues')\n",
    "plt.title('Confusion Matrix without Regularization')\n",
    "plt.xlabel('Predicted')\n",
    "plt.ylabel('True')\n",
    "\n",
    "# With regularization\n",
    "plt.subplot(1, 2, 2)\n",
    "sns.heatmap(cm_with_reg, annot=True, fmt='d', cmap='Blues')\n",
    "plt.title('Confusion Matrix with Regularization')\n",
    "plt.xlabel('Predicted')\n",
    "plt.ylabel('True')\n",
    "\n",
    "plt.show()"
   ]
  },
  {
   "cell_type": "code",
   "execution_count": null,
   "id": "f8c6fa0c-b729-48ea-9cef-03a00d969adb",
   "metadata": {},
   "outputs": [],
   "source": [
    "def plot_misclassified_images(x, y_true, y_pred, title):\n",
    "    misclassified = y_true != y_pred\n",
    "    x_misclassified = x[misclassified]\n",
    "    y_misclassified_true = y_true[misclassified]\n",
    "    y_misclassified_pred = y_pred[misclassified]\n",
    "\n",
    "    plt.figure(figsize=(10, 10))\n",
    "    for i in range(9):\n",
    "        plt.subplot(3, 3, i + 1)\n",
    "        plt.imshow(x_misclassified[i], interpolation='nearest')\n",
    "        plt.title(f\"True: {y_misclassified_true[i]}, Pred: {y_misclassified_pred[i]}\")\n",
    "        plt.axis('off')\n",
    "    plt.suptitle(title)\n",
    "    plt.show()\n",
    "\n",
    "# Plot misclassified images without regularization\n",
    "plot_misclassified_images(x_test, y_true, y_pred_classes_no_reg, 'Misclassified Images without Regularization')\n",
    "\n",
    "# Plot misclassified images with regularization\n",
    "plot_misclassified_images(x_test, y_true, y_pred_classes_with_reg, 'Misclassified Images with Regularization')\n"
   ]
  }
 ],
 "metadata": {
  "kernelspec": {
   "display_name": "Python 3 (ipykernel)",
   "language": "python",
   "name": "python3"
  },
  "language_info": {
   "codemirror_mode": {
    "name": "ipython",
    "version": 3
   },
   "file_extension": ".py",
   "mimetype": "text/x-python",
   "name": "python",
   "nbconvert_exporter": "python",
   "pygments_lexer": "ipython3",
   "version": "3.11.5"
  }
 },
 "nbformat": 4,
 "nbformat_minor": 5
}
