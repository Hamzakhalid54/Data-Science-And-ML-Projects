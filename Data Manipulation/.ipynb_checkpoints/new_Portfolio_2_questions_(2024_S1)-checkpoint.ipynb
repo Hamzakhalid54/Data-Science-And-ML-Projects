{
 "cells": [
  {
   "cell_type": "markdown",
   "id": "Z88FfJc9lA_T",
   "metadata": {
    "id": "Z88FfJc9lA_T"
   },
   "source": [
    "## Analysis of an E-commerce Dataset Part 2"
   ]
  },
  {
   "cell_type": "markdown",
   "id": "hoq0NwA9lA_V",
   "metadata": {
    "id": "hoq0NwA9lA_V"
   },
   "source": [
    "The goal of the second analysis task is to train linear regression models to predict users' ratings towards items. This involves a standard Data Science workflow: exploring data, building models, making predictions, and evaluating results. In this task, we will explore the impacts of feature selections and different sizes of training/testing data on the model performance. We will use another cleaned combined e-commerce sub-dataset that **is different from** the one in “Analysis of an E-commerce Dataset” task 1."
   ]
  },
  {
   "cell_type": "markdown",
   "id": "f9fd3NU_lA_W",
   "metadata": {
    "id": "f9fd3NU_lA_W"
   },
   "source": [
    "### Import Cleaned E-commerce Dataset\n",
    "The csv file named 'cleaned_ecommerce_dataset.csv' is provided. You may need to use the Pandas method, i.e., `read_csv`, for reading it. After that, please print out its total length."
   ]
  },
  {
   "cell_type": "code",
   "execution_count": 1,
   "id": "PJrb2gtAlA_W",
   "metadata": {
    "id": "PJrb2gtAlA_W"
   },
   "outputs": [],
   "source": [
    "import pandas as pd\n",
    "\n",
    "df = pd.read_csv('cleaned_ecommerce_dataset.csv')\n"
   ]
  },
  {
   "cell_type": "code",
   "execution_count": 2,
   "id": "8c8e368f-b43e-476f-90d7-f5dc1a4864e5",
   "metadata": {},
   "outputs": [
    {
     "name": "stdout",
     "output_type": "stream",
     "text": [
      "Total number of rows in the dataset: 2685\n"
     ]
    }
   ],
   "source": [
    "print(\"Total number of rows in the dataset:\", len(df))"
   ]
  },
  {
   "cell_type": "markdown",
   "id": "aqbuU6rglA_X",
   "metadata": {
    "id": "aqbuU6rglA_X"
   },
   "source": [
    "### Explore the Dataset\n",
    "\n",
    "* Use the methods, i.e., `head()` and `info()`, to have a rough picture about the data, e.g., how many columns, and the data types of each column.\n",
    "* As our goal is to predict ratings given other columns, please get the correlations between helpfulness/gender/category/review and rating by using the `corr()` method.\n",
    "\n",
    "  Hints: To get the correlations between different features, you may need to first convert the categorical features (i.e., gender, category and review) into numerial values. For doing this, you may need to import `OrdinalEncoder` from `sklearn.preprocessing` (refer to the useful exmaples [here](https://pbpython.com/categorical-encoding.html))\n",
    "* Please provide ___necessary explanations/analysis___ on the correlations, and figure out which are the ___most___ and ___least___ corrleated features regarding rating. Try to ___discuss___ how the correlation will affect the final prediction results, if we use these features to train a regression model for rating prediction. In what follows, we will conduct experiments to verify your hypothesis."
   ]
  },
  {
   "cell_type": "code",
   "execution_count": 3,
   "id": "W3PImHiElA_X",
   "metadata": {
    "id": "W3PImHiElA_X"
   },
   "outputs": [
    {
     "name": "stdout",
     "output_type": "stream",
     "text": [
      "First few rows of the dataset:\n"
     ]
    },
    {
     "data": {
      "text/html": [
       "<div>\n",
       "<style scoped>\n",
       "    .dataframe tbody tr th:only-of-type {\n",
       "        vertical-align: middle;\n",
       "    }\n",
       "\n",
       "    .dataframe tbody tr th {\n",
       "        vertical-align: top;\n",
       "    }\n",
       "\n",
       "    .dataframe thead th {\n",
       "        text-align: right;\n",
       "    }\n",
       "</style>\n",
       "<table border=\"1\" class=\"dataframe\">\n",
       "  <thead>\n",
       "    <tr style=\"text-align: right;\">\n",
       "      <th></th>\n",
       "      <th>userId</th>\n",
       "      <th>timestamp</th>\n",
       "      <th>review</th>\n",
       "      <th>item</th>\n",
       "      <th>rating</th>\n",
       "      <th>helpfulness</th>\n",
       "      <th>gender</th>\n",
       "      <th>category</th>\n",
       "      <th>item_id</th>\n",
       "      <th>item_price</th>\n",
       "      <th>user_city</th>\n",
       "    </tr>\n",
       "  </thead>\n",
       "  <tbody>\n",
       "    <tr>\n",
       "      <th>0</th>\n",
       "      <td>4081</td>\n",
       "      <td>71900</td>\n",
       "      <td>Not always McCrap</td>\n",
       "      <td>McDonald's</td>\n",
       "      <td>4.0</td>\n",
       "      <td>3.0</td>\n",
       "      <td>M</td>\n",
       "      <td>Restaurants &amp; Gourmet</td>\n",
       "      <td>41</td>\n",
       "      <td>30.74</td>\n",
       "      <td>4</td>\n",
       "    </tr>\n",
       "    <tr>\n",
       "      <th>1</th>\n",
       "      <td>4081</td>\n",
       "      <td>72000</td>\n",
       "      <td>I dropped the chalupa even before he told me to</td>\n",
       "      <td>Taco Bell</td>\n",
       "      <td>1.0</td>\n",
       "      <td>4.0</td>\n",
       "      <td>M</td>\n",
       "      <td>Restaurants &amp; Gourmet</td>\n",
       "      <td>74</td>\n",
       "      <td>108.30</td>\n",
       "      <td>4</td>\n",
       "    </tr>\n",
       "    <tr>\n",
       "      <th>2</th>\n",
       "      <td>4081</td>\n",
       "      <td>72000</td>\n",
       "      <td>The Wonderful World of Wendy</td>\n",
       "      <td>Wendy's</td>\n",
       "      <td>5.0</td>\n",
       "      <td>4.0</td>\n",
       "      <td>M</td>\n",
       "      <td>Restaurants &amp; Gourmet</td>\n",
       "      <td>84</td>\n",
       "      <td>69.00</td>\n",
       "      <td>4</td>\n",
       "    </tr>\n",
       "    <tr>\n",
       "      <th>3</th>\n",
       "      <td>4081</td>\n",
       "      <td>100399</td>\n",
       "      <td>They actually did it</td>\n",
       "      <td>South Park: Bigger, Longer &amp; Uncut</td>\n",
       "      <td>5.0</td>\n",
       "      <td>3.0</td>\n",
       "      <td>M</td>\n",
       "      <td>Movies</td>\n",
       "      <td>68</td>\n",
       "      <td>143.11</td>\n",
       "      <td>4</td>\n",
       "    </tr>\n",
       "    <tr>\n",
       "      <th>4</th>\n",
       "      <td>4081</td>\n",
       "      <td>100399</td>\n",
       "      <td>Hey! Gimme some pie!</td>\n",
       "      <td>American Pie</td>\n",
       "      <td>3.0</td>\n",
       "      <td>3.0</td>\n",
       "      <td>M</td>\n",
       "      <td>Movies</td>\n",
       "      <td>6</td>\n",
       "      <td>117.89</td>\n",
       "      <td>4</td>\n",
       "    </tr>\n",
       "  </tbody>\n",
       "</table>\n",
       "</div>"
      ],
      "text/plain": [
       "   userId  timestamp                                           review  \\\n",
       "0    4081      71900                                Not always McCrap   \n",
       "1    4081      72000  I dropped the chalupa even before he told me to   \n",
       "2    4081      72000                     The Wonderful World of Wendy   \n",
       "3    4081     100399                             They actually did it   \n",
       "4    4081     100399                             Hey! Gimme some pie!   \n",
       "\n",
       "                                 item  rating  helpfulness gender  \\\n",
       "0                          McDonald's     4.0          3.0      M   \n",
       "1                           Taco Bell     1.0          4.0      M   \n",
       "2                             Wendy's     5.0          4.0      M   \n",
       "3  South Park: Bigger, Longer & Uncut     5.0          3.0      M   \n",
       "4                        American Pie     3.0          3.0      M   \n",
       "\n",
       "                category  item_id  item_price  user_city  \n",
       "0  Restaurants & Gourmet       41       30.74          4  \n",
       "1  Restaurants & Gourmet       74      108.30          4  \n",
       "2  Restaurants & Gourmet       84       69.00          4  \n",
       "3                 Movies       68      143.11          4  \n",
       "4                 Movies        6      117.89          4  "
      ]
     },
     "execution_count": 3,
     "metadata": {},
     "output_type": "execute_result"
    }
   ],
   "source": [
    "print(\"First few rows of the dataset:\")\n",
    "df.head()"
   ]
  },
  {
   "cell_type": "code",
   "execution_count": 4,
   "id": "aedb15e9-b08d-4b10-8752-9992411cb675",
   "metadata": {},
   "outputs": [
    {
     "name": "stdout",
     "output_type": "stream",
     "text": [
      "\n",
      "Dataset information:\n",
      "<class 'pandas.core.frame.DataFrame'>\n",
      "RangeIndex: 2685 entries, 0 to 2684\n",
      "Data columns (total 11 columns):\n",
      " #   Column       Non-Null Count  Dtype  \n",
      "---  ------       --------------  -----  \n",
      " 0   userId       2685 non-null   int64  \n",
      " 1   timestamp    2685 non-null   int64  \n",
      " 2   review       2685 non-null   object \n",
      " 3   item         2685 non-null   object \n",
      " 4   rating       2685 non-null   float64\n",
      " 5   helpfulness  2685 non-null   float64\n",
      " 6   gender       2685 non-null   object \n",
      " 7   category     2685 non-null   object \n",
      " 8   item_id      2685 non-null   int64  \n",
      " 9   item_price   2685 non-null   float64\n",
      " 10  user_city    2685 non-null   int64  \n",
      "dtypes: float64(3), int64(4), object(4)\n",
      "memory usage: 230.9+ KB\n"
     ]
    }
   ],
   "source": [
    "print(\"\\nDataset information:\")\n",
    "df.info()"
   ]
  },
  {
   "cell_type": "code",
   "execution_count": 5,
   "id": "34fad3d3-0d72-44d7-b13a-14adee12f87e",
   "metadata": {},
   "outputs": [
    {
     "data": {
      "text/html": [
       "<div>\n",
       "<style scoped>\n",
       "    .dataframe tbody tr th:only-of-type {\n",
       "        vertical-align: middle;\n",
       "    }\n",
       "\n",
       "    .dataframe tbody tr th {\n",
       "        vertical-align: top;\n",
       "    }\n",
       "\n",
       "    .dataframe thead th {\n",
       "        text-align: right;\n",
       "    }\n",
       "</style>\n",
       "<table border=\"1\" class=\"dataframe\">\n",
       "  <thead>\n",
       "    <tr style=\"text-align: right;\">\n",
       "      <th></th>\n",
       "      <th>helpfulness</th>\n",
       "      <th>gender</th>\n",
       "      <th>category</th>\n",
       "      <th>review</th>\n",
       "      <th>rating</th>\n",
       "    </tr>\n",
       "  </thead>\n",
       "  <tbody>\n",
       "    <tr>\n",
       "      <th>helpfulness</th>\n",
       "      <td>1.000000</td>\n",
       "      <td>0.075947</td>\n",
       "      <td>-0.013408</td>\n",
       "      <td>-0.028259</td>\n",
       "      <td>-0.007523</td>\n",
       "    </tr>\n",
       "    <tr>\n",
       "      <th>gender</th>\n",
       "      <td>0.075947</td>\n",
       "      <td>1.000000</td>\n",
       "      <td>0.022549</td>\n",
       "      <td>-0.037884</td>\n",
       "      <td>-0.034337</td>\n",
       "    </tr>\n",
       "    <tr>\n",
       "      <th>category</th>\n",
       "      <td>-0.013408</td>\n",
       "      <td>0.022549</td>\n",
       "      <td>1.000000</td>\n",
       "      <td>0.001970</td>\n",
       "      <td>-0.163158</td>\n",
       "    </tr>\n",
       "    <tr>\n",
       "      <th>review</th>\n",
       "      <td>-0.028259</td>\n",
       "      <td>-0.037884</td>\n",
       "      <td>0.001970</td>\n",
       "      <td>1.000000</td>\n",
       "      <td>-0.036118</td>\n",
       "    </tr>\n",
       "    <tr>\n",
       "      <th>rating</th>\n",
       "      <td>-0.007523</td>\n",
       "      <td>-0.034337</td>\n",
       "      <td>-0.163158</td>\n",
       "      <td>-0.036118</td>\n",
       "      <td>1.000000</td>\n",
       "    </tr>\n",
       "  </tbody>\n",
       "</table>\n",
       "</div>"
      ],
      "text/plain": [
       "             helpfulness    gender  category    review    rating\n",
       "helpfulness     1.000000  0.075947 -0.013408 -0.028259 -0.007523\n",
       "gender          0.075947  1.000000  0.022549 -0.037884 -0.034337\n",
       "category       -0.013408  0.022549  1.000000  0.001970 -0.163158\n",
       "review         -0.028259 -0.037884  0.001970  1.000000 -0.036118\n",
       "rating         -0.007523 -0.034337 -0.163158 -0.036118  1.000000"
      ]
     },
     "execution_count": 5,
     "metadata": {},
     "output_type": "execute_result"
    }
   ],
   "source": [
    "from sklearn.preprocessing import OrdinalEncoder\n",
    "\n",
    "# For categorical columns: gender, category, and review, we need to convert them into numerical values\n",
    "encoder = OrdinalEncoder()\n",
    "\n",
    "# Assuming 'gender', 'category', and 'review' are the names of the categorical columns\n",
    "categorical_columns = ['gender', 'category', 'review'] if {'gender', 'category', 'review'}.issubset(df.columns) else df.select_dtypes(include=['object']).columns.tolist()\n",
    "df_encoded = df.copy()\n",
    "df_encoded[categorical_columns] = encoder.fit_transform(df[categorical_columns])\n",
    "\n",
    "# Calculate and print the correlations of 'helpfulness', 'gender', 'category', 'review' with 'rating'\n",
    "correlation_matrix = df_encoded[['helpfulness', 'gender', 'category', 'review', 'rating']].corr() if 'helpfulness' in df.columns else df_encoded.corr()\n",
    "correlation_matrix"
   ]
  },
  {
   "cell_type": "markdown",
   "id": "06c33743-a406-41c5-b95f-4e57456a0c52",
   "metadata": {},
   "source": [
    "Correlations Analysis\r\n",
    "Category vs. Rating: With a correlation coefficient of -0.163158 relationship between category and rating is strongest among examined features albeit still a weak and negative correlation. This suggests that as numerical value assigned to categories increases based on ordinal encoding, ratings tend to decrease slightly. This could indicate that certain categories are more likely to receive lower ratings but correlation is too weak to draw strong conclusions or to expect a high predictive power from this feature alone\n",
    ".\r\n",
    "Review vs. Rating: The review text once converted into numerical values through ordinal encoding, shows a very low negative correlation with rating -0.036118. This indicates very slight tendency for certain reviews or types of reviews, as captured by encoding to be associated with lower ratings. The practical significance of this correlation is likely minimal for predicting ratings due to its low magnitud\n",
    "e.\r\n",
    "Gender vs. Rating: The correlation between gender and rating is -0.034337 suggesting negligible negative relationship. The gender of reviewer appears to have a minimal effect on ratings given indicating that this feature might not be very useful in predicting rating outcomes in a regression mod\n",
    "el.\r\n",
    "Helpfulness vs. Rating: The correlation coefficient between helpfulness and rating is -0.007523 indicating an almost nonexistent relationship. This suggests that perceived helpfulness of a review does not significantly influence rating making it likely least useful feature among those examined for predicting rating.\r\n",
    "\r\n",
    "Implications for Prediction\r\n",
    "The overall weak correlations suggest that linear relationships between these features and te rating are not strong. Thus relying solely on these features in a linear regression model might not yield highly accurate predictions. The model's ability to predict ratings might improve marginally by including category feature given its relatively higher though still weak correlation with \n",
    "rating.\r\n",
    "Since these features have very weak linear correlations with rating it's likely that success of a regression model in predicting ratings would depend on additional features not examined here or on capturing non-linear relationships perhaps through more complex modeling approaches like ensemble methods or neural n\n",
    "etworks.\r\n",
    "It's important to note that effectiveness of categorical features in a regression model can be influenced by how these categories are encoded. While ordinal encoding was used here for simplicity other encoding strategies like one-hot encoding might reveal different aspects of relationship between these categorical features and rating especially in models that can capture non-linear patterns.\r\n"
   ]
  },
  {
   "cell_type": "markdown",
   "id": "4myP5igslA_Y",
   "metadata": {
    "id": "4myP5igslA_Y"
   },
   "source": [
    "### Split Training and Testing Data\n",
    "* Machine learning models are trained to help make predictions for the future. Normally, we need to randomly split the dataset into training and testing sets, where we use the training set to train the model, and then leverage the well-trained model to make predictions on the testing set.\n",
    "* To further investigate whether the size of the training/testing data affects the model performance, please random split the data into training and testing sets with different sizes:\n",
    "    * Case 1: training data containing 10% of the entire data;\n",
    "    * Case 2: training data containing 90% of the entire data.\n",
    "* Print the shape of training and testing sets in the two cases."
   ]
  },
  {
   "cell_type": "code",
   "execution_count": 6,
   "id": "JIDMig9blA_Y",
   "metadata": {
    "id": "JIDMig9blA_Y"
   },
   "outputs": [
    {
     "data": {
      "text/plain": [
       "(((268, 10), (2417, 10)), ((2416, 10), (269, 10)))"
      ]
     },
     "execution_count": 6,
     "metadata": {},
     "output_type": "execute_result"
    }
   ],
   "source": [
    "from sklearn.model_selection import train_test_split\n",
    "\n",
    "# Split  data for Case 1: 10% training data\n",
    "X_train_case1, X_test_case1, y_train_case1, y_test_case1 = train_test_split(df_encoded.drop('rating', axis=1), df_encoded['rating'], test_size=0.9, random_state=42)\n",
    "\n",
    "# Split  data for Case 2: 90% training data\n",
    "X_train_case2, X_test_case2, y_train_case2, y_test_case2 = train_test_split(df_encoded.drop('rating', axis=1), df_encoded['rating'], test_size=0.1, random_state=42)\n",
    "\n",
    "# Print  shape of training and testing sets in  two cases\n",
    "(X_train_case1.shape, X_test_case1.shape),(X_train_case2.shape, X_test_case2.shape)\n"
   ]
  },
  {
   "cell_type": "markdown",
   "id": "DjSsgT0BlA_Y",
   "metadata": {
    "id": "DjSsgT0BlA_Y"
   },
   "source": [
    "### Train Linear Regression Models with Feature Selection under Cases 1 & 2\n",
    "* When training a machine learning model for prediction, we may need to select the most important/correlated input features for more accurate results.\n",
    "* To investigate whether feature selection affects the model performance, please select two most correlated features and two least correlated features from helpfulness/gender/category/review regarding rating, respectively.\n",
    "* Train four linear regression models by following the conditions:\n",
    "    - (model-a) using the training/testing data in case 1 with two most correlated input features\n",
    "    - (model-b) using the training/testing data in case 1 with two least correlated input features\n",
    "    - (model-c) using the training/testing data in case 2 with two most correlated input features\n",
    "    - (model-d) using the training/testing data in case 2 with two least correlated input features\n",
    "* By doing this, we can verify the impacts of the size of traing/testing data on the model performance via comparing model-a and model-c (or model-b and model-d); meanwhile the impacts of feature selection can be validated via comparing model-a and model-b (or model-c and model-d).    "
   ]
  },
  {
   "cell_type": "code",
   "execution_count": 7,
   "id": "DASzPUATlA_Z",
   "metadata": {
    "id": "DASzPUATlA_Z"
   },
   "outputs": [],
   "source": [
    "from sklearn.linear_model import LinearRegression\n",
    "\n",
    "# Two most correlated input features regarding rating: 'category', 'review'\n",
    "# Two least correlated input features regarding rating: 'helpfulness', 'gender'\n",
    "\n",
    "# Preparing datasets based on selected features\n",
    "# Case 1 datasets\n",
    "X_train_case1_most = X_train_case1[['category', 'review']]\n",
    "X_test_case1_most = X_test_case1[['category', 'review']]\n",
    "X_train_case1_least = X_train_case1[['helpfulness', 'gender']]\n",
    "X_test_case1_least = X_test_case1[['helpfulness', 'gender']]\n",
    "\n",
    "# Case 2 datasets\n",
    "X_train_case2_most = X_train_case2[['category', 'review']]\n",
    "X_test_case2_most = X_test_case2[['category', 'review']]\n",
    "X_train_case2_least = X_train_case2[['helpfulness', 'gender']]\n",
    "X_test_case2_least = X_test_case2[['helpfulness', 'gender']]\n",
    "\n",
    "# Initializing linear regression models\n",
    "model_a = LinearRegression()\n",
    "model_b = LinearRegression()\n",
    "model_c = LinearRegression()\n",
    "model_d = LinearRegression()\n",
    "\n",
    "# Training models\n",
    "model_a.fit(X_train_case1_most, y_train_case1)\n",
    "model_b.fit(X_train_case1_least, y_train_case1)\n",
    "model_c.fit(X_train_case2_most, y_train_case2)\n",
    "model_d.fit(X_train_case2_least, y_train_case2)\n",
    "\n",
    "# Making predictions\n",
    "predictions_a = model_a.predict(X_test_case1_most)\n",
    "predictions_b = model_b.predict(X_test_case1_least)\n",
    "predictions_c = model_c.predict(X_test_case2_most)\n",
    "predictions_d = model_d.predict(X_test_case2_least)\n",
    "\n"
   ]
  },
  {
   "cell_type": "markdown",
   "id": "KATSn7hYlA_Z",
   "metadata": {
    "id": "KATSn7hYlA_Z"
   },
   "source": [
    "### Evaluate Models\n",
    "* Evaluate the performance of the four models with two metrics, including MSE and Root MSE\n",
    "* Print the results of the four models regarding the two metrics"
   ]
  },
  {
   "cell_type": "code",
   "execution_count": 8,
   "id": "4fU8GPS9lA_Z",
   "metadata": {
    "id": "4fU8GPS9lA_Z"
   },
   "outputs": [
    {
     "name": "stdout",
     "output_type": "stream",
     "text": [
      "{'Model': ['Model-a', 'Model-b', 'Model-c', 'Model-d'], 'MSE': [1.776581354691434, 1.860535990321889, 1.681992500504392, 1.7245375467700426], 'RMSE': [1.3328845991650717, 1.3640146591301316, 1.2969165356739007, 1.3132164889194937]}\n"
     ]
    }
   ],
   "source": [
    "from sklearn.metrics import mean_squared_error\n",
    "import numpy as np\n",
    "\n",
    "# Calculating MSE for each model\n",
    "mse_a = mean_squared_error(y_test_case1, predictions_a)\n",
    "mse_b = mean_squared_error(y_test_case1, predictions_b)\n",
    "mse_c = mean_squared_error(y_test_case2, predictions_c)\n",
    "mse_d = mean_squared_error(y_test_case2, predictions_d)\n",
    "\n",
    "\n",
    "# Define a function to compute MSE and RMSE\n",
    "def compute_metrics(actual, predicted):\n",
    "    mse = mean_squared_error(actual, predicted)\n",
    "    rmse = np.sqrt(mse)\n",
    "    return mse, rmse\n",
    "\n",
    "# Compute MSE and RMSE for each model\n",
    "metrics_a = compute_metrics(y_test_case1, predictions_a)\n",
    "metrics_b = compute_metrics(y_test_case1, predictions_b)\n",
    "metrics_c = compute_metrics(y_test_case2, predictions_c)\n",
    "metrics_d = compute_metrics(y_test_case2, predictions_d)\n",
    "\n",
    "# Organize results\n",
    "results = {\n",
    "    \"Model\": [\"Model-a\", \"Model-b\", \"Model-c\", \"Model-d\"],\n",
    "    \"MSE\": [metrics_a[0], metrics_b[0], metrics_c[0], metrics_d[0]],\n",
    "    \"RMSE\": [metrics_a[1], metrics_b[1], metrics_c[1], metrics_d[1]]\n",
    "}\n",
    "\n",
    "print(results)"
   ]
  },
  {
   "cell_type": "markdown",
   "id": "Y9jx-eY6lA_a",
   "metadata": {
    "id": "Y9jx-eY6lA_a"
   },
   "source": [
    "### Visualize, Compare and Analyze the Results\n",
    "* Visulize the results, and perform ___insightful analysis___ on the obtained results. For better visualization, you may need to carefully set the scale for the y-axis.\n",
    "* Normally, the model trained with most correlated features and more training data will get better results. Do you obtain the similar observations? If not, please ___explain the possible reasons___."
   ]
  },
  {
   "cell_type": "code",
   "execution_count": 9,
   "id": "3TNAIGDilA_a",
   "metadata": {
    "id": "3TNAIGDilA_a"
   },
   "outputs": [
    {
     "data": {
      "image/png": "[encoded data removed]",
      "text/plain": [
       "<Figure size 1400x600 with 2 Axes>"
      ]
     },
     "metadata": {},
     "output_type": "display_data"
    }
   ],
   "source": [
    "import matplotlib.pyplot as plt\n",
    "\n",
    "# Data for plotting\n",
    "models = ['Model-a', 'Model-b', 'Model-c', 'Model-d']\n",
    "mse_values = [1.776581354691434, 1.860535990321889, 1.681992500504392, 1.7245375467700426]\n",
    "rmse_values = [1.3328845991650717, 1.3640146591301316, 1.2969165356739007, 1.3132164889194937]\n",
    "\n",
    "# Creating subplots for MSE and RMSE\n",
    "fig, ax = plt.subplots(1, 2, figsize=(14, 6))\n",
    "\n",
    "# MSE Plot\n",
    "ax[0].bar(models, mse_values, color='skyblue')\n",
    "ax[0].set_title('MSE of Models')\n",
    "ax[0].set_ylabel('MSE')\n",
    "ax[0].set_xlabel('Model')\n",
    "ax[0].set_ylim(0, max(mse_values) + 0.2)  # Set scale for better visualization\n",
    "\n",
    "# RMSE Plot\n",
    "ax[1].bar(models, rmse_values, color='lightgreen')\n",
    "ax[1].set_title('RMSE of Models')\n",
    "ax[1].set_ylabel('RMSE')\n",
    "ax[1].set_xlabel('Model')\n",
    "ax[1].set_ylim(0, max(rmse_values) + 0.2)  # Set scale for better visualization\n",
    "\n",
    "plt.tight_layout()\n",
    "plt.show()\n"
   ]
  },
  {
   "cell_type": "code",
   "execution_count": null,
   "id": "fd4ee927-2c52-49c6-ba82-46b4ccd0fd13",
   "metadata": {},
   "outputs": [],
   "source": []
  },
  {
   "cell_type": "markdown",
   "id": "f9ee01ac",
   "metadata": {
    "id": "f9ee01ac"
   },
   "source": [
    "### Data Science Ethics\n",
    "*Please read the following examples [Click here to read the example_1.](https://www.vox.com/covid-19-coronavirus-us-response-trump/2020/5/18/21262265/georgia-covid-19-cases-declining-reopening) [Click here to read the example_2.](https://viborc.com/ethics-and-ethical-data-visualization-a-complete-guide/)\n",
    "\n",
    "*Then view the picture ![My Image](figure_portfolio2.png \"This is my image\")\n",
    "Please compose an analysis of 100-200 words that evaluates potential ethical concerns associated with the infographic, detailing the reasons behind these issues.\n"
   ]
  },
  {
   "cell_type": "markdown",
   "id": "7dd4bb0c-3dec-4a45-8300-524a1784280d",
   "metadata": {
    "id": "44f30e9b"
   },
   "source": [
    "The infographic presents data from 2008 Summer Olympics and showing medal counts for different countries organized in two tables. One sorted by total medals and other by gold medals. From an ethical standpoint and the way data is sorted and presented can significantly effect viewer's perception.\n",
    "\r\n",
    "Sorting by total medals places United States at top potentially suggesting overall dominance in Olympics. However sorting by gold medals shows China leading which might imply superiority in achieving first-place finishes. This difference in presentation could create biases depending on what creator wants to emphasize or message they want to convey\n",
    ".\r\n",
    "An ethical concern arises if intent behind presenting data in one way over another is to mislead or to push a specific narrative. It is important for data to be presented objectively and any sorting or organizing of data should be justified transparently. If not then it can be a form of manipulation by highlighting certain aspects while downplaying other\n",
    "s.\r\n",
    "Investment in their Olympic programs, or the number of events participated in, may lead to misinterpretation of the data because no number of participants are given. It could unfairly enhance or tarnish perceived performance of a country without a full understanding of circumstanc\n",
    "es.\r\n",
    "To uphold data science ethics and it's crucial to be transparent about methods used to sort data and to provide a comprehensive picture allowing for an informed interpretation.\r\n"
   ]
  },
  {
   "cell_type": "code",
   "execution_count": null,
   "id": "0511889d",
   "metadata": {
    "id": "0511889d"
   },
   "outputs": [],
   "source": []
  }
 ],
 "metadata": {
  "colab": {
   "provenance": []
  },
  "kernelspec": {
   "display_name": "Python 3 (ipykernel)",
   "language": "python",
   "name": "python3"
  },
  "language_info": {
   "codemirror_mode": {
    "name": "ipython",
    "version": 3
   },
   "file_extension": ".py",
   "mimetype": "text/x-python",
   "name": "python",
   "nbconvert_exporter": "python",
   "pygments_lexer": "ipython3",
   "version": "3.11.5"
  }
 },
 "nbformat": 4,
 "nbformat_minor": 5
}
