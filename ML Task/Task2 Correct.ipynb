{
 "cells": [
  {
   "cell_type": "code",
   "execution_count": 1,
   "id": "ca26562a-ad3f-4242-918f-491933282833",
   "metadata": {},
   "outputs": [],
   "source": [
    "import numpy as np\n"
   ]
  },
  {
   "cell_type": "code",
   "execution_count": 2,
   "id": "35fadea4-11e2-4d15-ba2b-00b9b76f790b",
   "metadata": {},
   "outputs": [],
   "source": [
    "# Define the utilities of all states in a 2D array\n",
    "utilities = np.array([\n",
    "    [7.41, 7.52, 7.65, 10, 7.54],\n",
    "    [7.31, None, 5.82, None, -10],\n",
    "    [7.15, None, 4.31, None, -10],\n",
    "    [6.98, 6.77, 6.44, 5.87, 6.12],\n",
    "    [6.90, 6.80, 6.59, 6.51, 6.34]\n",
    "])"
   ]
  },
  {
   "cell_type": "code",
   "execution_count": 3,
   "id": "b9b8f3fe-7e5b-4659-bbb9-8f5b4bcec7d8",
   "metadata": {},
   "outputs": [],
   "source": [
    "utilities[1, 1] = utilities[1, 3] = utilities[2, 1] = utilities[2, 3] = 0\n"
   ]
  },
  {
   "cell_type": "code",
   "execution_count": 4,
   "id": "150c24ef-4b50-4884-9963-0c02f62a4d3e",
   "metadata": {},
   "outputs": [],
   "source": [
    "# Rewards and probabilities\n",
    "move_reward = -0.1\n",
    "prob_forward = 0.8\n",
    "prob_sideways = 0.1  # for both left and right\n"
   ]
  },
  {
   "cell_type": "code",
   "execution_count": 5,
   "id": "293f3f9d-e7df-4f20-8b6f-094517750822",
   "metadata": {},
   "outputs": [],
   "source": [
    "# Action for UP, DOWN, LEFT, RIGHT\n",
    "action_deltas = {\n",
    "    'UP': (-1, 0),\n",
    "    'DOWN': (1, 0),\n",
    "    'LEFT': (0, -1),\n",
    "    'RIGHT': (0, 1)\n",
    "}"
   ]
  },
  {
   "cell_type": "code",
   "execution_count": 6,
   "id": "bfc40c2b-10f4-4f31-822d-c3f908969299",
   "metadata": {},
   "outputs": [],
   "source": [
    "# Function to check if a state is within grid and not an inaccessible state\n",
    "def is_valid_state(state):\n",
    "    r, c = state\n",
    "    return (0 <= r < utilities.shape[0] and 0 <= c < utilities.shape[1] and utilities[r, c] is not None)"
   ]
  },
  {
   "cell_type": "code",
   "execution_count": 7,
   "id": "e1974d22-70aa-4d0f-a9ed-830a37e2f881",
   "metadata": {},
   "outputs": [],
   "source": [
    "# Calculate expected utility of taking an action from a state\n",
    "def calculate_expected_utility(state, action):\n",
    "    main_direction = tuple(np.add(state, action_deltas[action]))\n",
    "    left_action = 'UP' if action in ['LEFT', 'RIGHT'] else 'LEFT'\n",
    "    right_action = 'DOWN' if action in ['LEFT', 'RIGHT'] else 'RIGHT'\n",
    "    left_direction = tuple(np.add(state, action_deltas[left_action]))\n",
    "    right_direction = tuple(np.add(state, action_deltas[right_action]))\n",
    "\n",
    "    # Calculate utilities\n",
    "    utility_main = utilities[main_direction] if is_valid_state(main_direction) else utilities[state]\n",
    "    utility_left = utilities[left_direction] if is_valid_state(left_direction) else utilities[state]\n",
    "    utility_right = utilities[right_direction] if is_valid_state(right_direction) else utilities[state]\n",
    "\n",
    "    # Expected utility\n",
    "    expected_utility = (prob_forward * utility_main +\n",
    "                        prob_sideways * utility_left +\n",
    "                        prob_sideways * utility_right +\n",
    "                        move_reward)\n",
    "    \n",
    "    return expected_utility\n"
   ]
  },
  {
   "cell_type": "code",
   "execution_count": 8,
   "id": "3fc059ad-2259-4fad-98b7-f6b7568a5baa",
   "metadata": {},
   "outputs": [],
   "source": [
    "# Calculate the optimal policy for each state\n",
    "def find_optimal_policy(utilities):\n",
    "    rows, cols = utilities.shape\n",
    "    policy = {}\n",
    "\n",
    "    for r in range(rows):\n",
    "        for c in range(cols):\n",
    "            if utilities[r, c] is not None:\n",
    "                best_action = None\n",
    "                best_utility = float('-inf')\n",
    "                \n",
    "                for action in action_deltas.keys():\n",
    "                    if is_valid_state(np.add((r, c), action_deltas[action])):\n",
    "                        utility = calculate_expected_utility((r, c), action)\n",
    "                        if utility > best_utility:\n",
    "                            best_utility = utility\n",
    "                            best_action = action\n",
    "                \n",
    "                policy[(r, c)] = best_action\n",
    "    \n",
    "    return policy"
   ]
  },
  {
   "cell_type": "code",
   "execution_count": 9,
   "id": "b5affe6a-b682-49b1-922d-5675d257d192",
   "metadata": {},
   "outputs": [],
   "source": [
    "# Get the optimal policy for each state\n",
    "optimal_policy = find_optimal_policy(utilities)\n"
   ]
  },
  {
   "cell_type": "code",
   "execution_count": 10,
   "id": "6bc5b22c-8c84-4905-830f-0fed71c661b7",
   "metadata": {},
   "outputs": [],
   "source": [
    "# Display the optimal policy for the highlighted green states\n",
    "highlighted_states = [(1, 0), (3, 2),(4,1)]\n",
    "optimal_actions_for_highlighted_states = {state: optimal_policy[state] for state in highlighted_states}"
   ]
  },
  {
   "cell_type": "code",
   "execution_count": 11,
   "id": "cee0367a-a2c2-4d1a-922b-9c9fb8320898",
   "metadata": {},
   "outputs": [
    {
     "data": {
      "text/plain": [
       "{(1, 0): 'UP', (3, 2): 'DOWN', (4, 1): 'LEFT'}"
      ]
     },
     "execution_count": 11,
     "metadata": {},
     "output_type": "execute_result"
    }
   ],
   "source": [
    "optimal_actions_for_highlighted_states"
   ]
  },
  {
   "cell_type": "code",
   "execution_count": null,
   "id": "67558cd9-687d-4eec-a0fd-b27f4e9485d6",
   "metadata": {},
   "outputs": [],
   "source": []
  }
 ],
 "metadata": {
  "kernelspec": {
   "display_name": "Python 3 (ipykernel)",
   "language": "python",
   "name": "python3"
  },
  "language_info": {
   "codemirror_mode": {
    "name": "ipython",
    "version": 3
   },
   "file_extension": ".py",
   "mimetype": "text/x-python",
   "name": "python",
   "nbconvert_exporter": "python",
   "pygments_lexer": "ipython3",
   "version": "3.11.5"
  }
 },
 "nbformat": 4,
 "nbformat_minor": 5
}
