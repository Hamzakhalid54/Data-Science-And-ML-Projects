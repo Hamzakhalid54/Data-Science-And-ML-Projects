{
 "cells": [
  {
   "cell_type": "code",
   "execution_count": 1,
   "id": "28c95a0d-1253-4492-9966-a9c42bd48de8",
   "metadata": {},
   "outputs": [],
   "source": [
    "import numpy as np"
   ]
  },
  {
   "cell_type": "code",
   "execution_count": 14,
   "id": "50b0dbf5-21af-497c-a3a1-b05a16d2c881",
   "metadata": {},
   "outputs": [],
   "source": [
    "def get_neighbors(grid, row, col):\n",
    "    neighbors = []\n",
    "    grid_rows, grid_cols = len(grid), len(grid[0])\n",
    "\n",
    "    if row > 0:\n",
    "        neighbors.append(grid[row - 1][col])  # UP\n",
    "\n",
    "    if row < grid_rows - 1:\n",
    "        neighbors.append(grid[row + 1][col])  # DOWN\n",
    "\n",
    "    if col > 0:\n",
    "        neighbors.append(grid[row][col - 1])  # LEFT\n",
    "\n",
    "    if col < grid_cols - 1:\n",
    "        neighbors.append(grid[row][col + 1])  # RIGHT\n",
    "\n",
    "    # Filter out None values\n",
    "    neighbors = [value for value in neighbors if value is not None]\n",
    "\n",
    "    return neighbors"
   ]
  },
  {
   "cell_type": "code",
   "execution_count": 15,
   "id": "e00c7e77-286b-4cc7-a773-5d7194ec05aa",
   "metadata": {},
   "outputs": [],
   "source": [
    "def optimal_policy_action(grid, row, col):\n",
    "    current_utility = grid[row][col]\n",
    "    neighbors = get_neighbors(grid, row, col)\n",
    "\n",
    "    actions = ['UP', 'DOWN', 'LEFT', 'RIGHT']\n",
    "    optimal_action = actions[np.argmax(neighbors)]\n",
    "\n",
    "    return optimal_action"
   ]
  },
  {
   "cell_type": "code",
   "execution_count": 16,
   "id": "6d51ba86-b22c-42f3-819b-85b79b4098fd",
   "metadata": {},
   "outputs": [],
   "source": [
    "def find_optimal_policy_actions(grid):\n",
    "    optimal_actions = []\n",
    "\n",
    "    for row in range(len(grid)):\n",
    "        for col in range(len(grid[0])):\n",
    "            if grid[row][col] is not None and (row, col) in [(1, 2), (3, 1), (4, 2)]:\n",
    "                # If the state is not None and is in the corrected green states\n",
    "                optimal_actions.append((row, col, optimal_policy_action(grid, row, col)))\n",
    "\n",
    "    return optimal_actions"
   ]
  },
  {
   "cell_type": "code",
   "execution_count": 17,
   "id": "a6f5d7ad-eb67-4ef0-9d90-621faaf2ab4b",
   "metadata": {},
   "outputs": [],
   "source": [
    "# Given grid\n",
    "grid = [\n",
    "    [7.41, 7.52, 7.65, 10, 7.54],\n",
    "    [7.31, None, -10, 5.82, 4.31],\n",
    "    [7.15, None, -10, 4.31, None],\n",
    "    [6.98, 6.77, 6.44, 5.87, 6.12],\n",
    "    [6.90, 6.80, 6.59, 6.51, 6.34]\n",
    "]"
   ]
  },
  {
   "cell_type": "code",
   "execution_count": 18,
   "id": "b33c07de-9261-4354-9ed9-e257638522e5",
   "metadata": {},
   "outputs": [],
   "source": [
    "# Find optimal policy actions for corrected green states\n",
    "optimal_actions = find_optimal_policy_actions(grid)\n"
   ]
  },
  {
   "cell_type": "code",
   "execution_count": 19,
   "id": "4a8d0891-cfb4-4fa7-834e-6558955f06fa",
   "metadata": {},
   "outputs": [
    {
     "name": "stdout",
     "output_type": "stream",
     "text": [
      "Optimal action for state at (1, 2): UP\n",
      "Optimal action for state at (3, 1): DOWN\n",
      "Optimal action for state at (4, 2): DOWN\n"
     ]
    }
   ],
   "source": [
    "for state in optimal_actions:\n",
    "    print(f\"Optimal action for state at ({state[0]}, {state[1]}): {state[2]}\")"
   ]
  },
  {
   "cell_type": "code",
   "execution_count": null,
   "id": "734bff69-40c0-453a-a8d2-1fd25e65fddf",
   "metadata": {},
   "outputs": [],
   "source": []
  }
 ],
 "metadata": {
  "kernelspec": {
   "display_name": "Python 3 (ipykernel)",
   "language": "python",
   "name": "python3"
  },
  "language_info": {
   "codemirror_mode": {
    "name": "ipython",
    "version": 3
   },
   "file_extension": ".py",
   "mimetype": "text/x-python",
   "name": "python",
   "nbconvert_exporter": "python",
   "pygments_lexer": "ipython3",
   "version": "3.11.5"
  }
 },
 "nbformat": 4,
 "nbformat_minor": 5
}
