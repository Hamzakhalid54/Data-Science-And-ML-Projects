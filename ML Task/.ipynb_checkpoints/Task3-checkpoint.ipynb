{
 "cells": [
  {
   "cell_type": "code",
   "execution_count": 1,
   "id": "740bf21c-128b-42c4-94d8-43170e06c86f",
   "metadata": {},
   "outputs": [],
   "source": [
    "import pandas as pd\n",
    "from sklearn.decomposition import FactorAnalysis\n",
    "from sklearn.preprocessing import StandardScaler"
   ]
  },
  {
   "cell_type": "code",
   "execution_count": 2,
   "id": "d376c981-a550-4d56-8f12-445d2dbd77b3",
   "metadata": {},
   "outputs": [],
   "source": [
    "# Load the dataset\n",
    "data = pd.read_csv('kc_house_data_reduced.csv')\n"
   ]
  },
  {
   "cell_type": "code",
   "execution_count": 3,
   "id": "ab57494e-c3fe-4185-bf2a-11e4fd8522d8",
   "metadata": {},
   "outputs": [],
   "source": [
    "# Selecting relevant columns for factor analysis\n",
    "columns_for_factor_analysis = ['condition', 'grade', 'sqft_above', 'sqft_basement', 'sqft_living15']\n"
   ]
  },
  {
   "cell_type": "code",
   "execution_count": 4,
   "id": "30762135-bf9d-42c2-b14d-989c9e464fe0",
   "metadata": {},
   "outputs": [],
   "source": [
    "# Standardize the data\n",
    "scaler = StandardScaler()\n",
    "data_scaled = scaler.fit_transform(data[columns_for_factor_analysis])\n"
   ]
  },
  {
   "cell_type": "code",
   "execution_count": 5,
   "id": "29e54469-54d4-4e39-a579-fe7c3528a9ed",
   "metadata": {},
   "outputs": [],
   "source": [
    "# Fit Factor Analysis model with two components\n",
    "n_components = 2\n",
    "factor_analysis_model = FactorAnalysis(n_components=n_components, random_state=42)\n",
    "components = factor_analysis_model.fit_transform(data_scaled)\n"
   ]
  },
  {
   "cell_type": "code",
   "execution_count": 6,
   "id": "fa3b146a-376c-470d-97eb-84b32e0b709a",
   "metadata": {},
   "outputs": [
    {
     "name": "stdout",
     "output_type": "stream",
     "text": [
      "Components:\n",
      "[[-0.06915843  0.82146164  0.78397372  0.44373017  0.81491862]\n",
      " [ 0.24241864 -0.23514799 -0.47719398  0.83719893 -0.19252606]]\n"
     ]
    }
   ],
   "source": [
    "# Print the components found through factor analysis\n",
    "print(\"Components:\")\n",
    "print(factor_analysis_model.components_)"
   ]
  },
  {
   "cell_type": "code",
   "execution_count": 7,
   "id": "6e53f21e-4805-4497-9a68-e673db285d40",
   "metadata": {},
   "outputs": [
    {
     "name": "stdout",
     "output_type": "stream",
     "text": [
      "\n",
      "Interpretation of Component 1:\n",
      "condition: -0.069\n",
      "grade: 0.821\n",
      "sqft_above: 0.784\n",
      "sqft_basement: 0.444\n",
      "sqft_living15: 0.815\n",
      "\n",
      "Interpretation of Component 2:\n",
      "condition: 0.242\n",
      "grade: -0.235\n",
      "sqft_above: -0.477\n",
      "sqft_basement: 0.837\n",
      "sqft_living15: -0.193\n"
     ]
    }
   ],
   "source": [
    "# Interpretation of components (in plain English)\n",
    "for i in range(n_components):\n",
    "    print(f\"\\nInterpretation of Component {i + 1}:\")\n",
    "    for j, feature in enumerate(columns_for_factor_analysis):\n",
    "        weight = factor_analysis_model.components_[i, j]\n",
    "        print(f\"{feature}: {weight:.3f}\")\n"
   ]
  },
  {
   "cell_type": "code",
   "execution_count": 9,
   "id": "99557b18-8619-4ddf-a3a7-2165968905d4",
   "metadata": {},
   "outputs": [
    {
     "name": "stdout",
     "output_type": "stream",
     "text": [
      "\n",
      "Noise Variance (Explained Variance):\n",
      "[0.93644737 0.26990708 0.1576642  0.10229964 0.29883962]\n"
     ]
    }
   ],
   "source": [
    "# Additional information about the noise variance (explained variance in this context)\n",
    "print(\"\\nNoise Variance (Explained Variance):\")\n",
    "print(factor_analysis_model.noise_variance_)"
   ]
  },
  {
   "cell_type": "code",
   "execution_count": null,
   "id": "42e9c2af-8dc6-4fe4-a0d6-012afdb672a5",
   "metadata": {},
   "outputs": [],
   "source": []
  }
 ],
 "metadata": {
  "kernelspec": {
   "display_name": "Python 3 (ipykernel)",
   "language": "python",
   "name": "python3"
  },
  "language_info": {
   "codemirror_mode": {
    "name": "ipython",
    "version": 3
   },
   "file_extension": ".py",
   "mimetype": "text/x-python",
   "name": "python",
   "nbconvert_exporter": "python",
   "pygments_lexer": "ipython3",
   "version": "3.11.5"
  }
 },
 "nbformat": 4,
 "nbformat_minor": 5
}
