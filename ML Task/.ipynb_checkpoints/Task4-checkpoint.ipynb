{
 "cells": [
  {
   "cell_type": "code",
   "execution_count": 1,
   "id": "365c0fa1-b5e4-4136-a6eb-4ff4b7ee937f",
   "metadata": {},
   "outputs": [
    {
     "name": "stdout",
     "output_type": "stream",
     "text": [
      "   step       customer  age gender zipcodeOri       merchant zipMerchant  \\\n",
      "0     0  'C1093826151'  '4'    'M'    '28007'   'M348934600'     '28007'   \n",
      "1     0   'C352968107'  '2'    'M'    '28007'   'M348934600'     '28007'   \n",
      "2     0  'C2054744914'  '4'    'F'    '28007'  'M1823072687'     '28007'   \n",
      "3     0  'C1760612790'  '3'    'M'    '28007'   'M348934600'     '28007'   \n",
      "4     0   'C757503768'  '5'    'M'    '28007'   'M348934600'     '28007'   \n",
      "\n",
      "              category  amount  fraud  \n",
      "0  'es_transportation'    4.55      0  \n",
      "1  'es_transportation'   39.68      0  \n",
      "2  'es_transportation'   26.89      0  \n",
      "3  'es_transportation'   17.25      0  \n",
      "4  'es_transportation'   35.72      0  \n"
     ]
    }
   ],
   "source": [
    "import pandas as pd\n",
    "\n",
    "# Load the dataset\n",
    "data = pd.read_csv('bs140513_032310.csv')\n",
    "\n",
    "# Display the first few rows of the dataset for an overview\n",
    "print(data.head())"
   ]
  },
  {
   "cell_type": "code",
   "execution_count": 2,
   "id": "b48bed42-e1a1-4d60-839c-5c9147dc637f",
   "metadata": {},
   "outputs": [
    {
     "name": "stdout",
     "output_type": "stream",
     "text": [
      "Missing Values:\n",
      " step           0\n",
      "customer       0\n",
      "age            0\n",
      "gender         0\n",
      "zipcodeOri     0\n",
      "merchant       0\n",
      "zipMerchant    0\n",
      "category       0\n",
      "amount         0\n",
      "fraud          0\n",
      "dtype: int64\n",
      "Unique Customers: 4112\n",
      "Unique Merchants: 50\n",
      "Unique Categories: 15\n"
     ]
    }
   ],
   "source": [
    "# Checking for missing values\n",
    "missing_values = data.isnull().sum()\n",
    "\n",
    "# Unique value analysis for certain columns\n",
    "unique_customers = data['customer'].nunique()\n",
    "unique_merchants = data['merchant'].nunique()\n",
    "unique_categories = data['category'].nunique()\n",
    "\n",
    "print(\"Missing Values:\\n\", missing_values)\n",
    "print(\"Unique Customers:\", unique_customers)\n",
    "print(\"Unique Merchants:\", unique_merchants)\n",
    "print(\"Unique Categories:\", unique_categories)\n"
   ]
  },
  {
   "cell_type": "code",
   "execution_count": 3,
   "id": "8420173c-ad75-4b5a-961e-31b29ae87f18",
   "metadata": {},
   "outputs": [
    {
     "name": "stdout",
     "output_type": "stream",
     "text": [
      "Unique Zip Codes (Origin): 1\n",
      "Unique Zip Codes (Merchant): 1\n"
     ]
    }
   ],
   "source": [
    "# Zip code analysis\n",
    "unique_zipcodeOri = data['zipcodeOri'].nunique()\n",
    "unique_zipMerchant = data['zipMerchant'].nunique()\n",
    "\n",
    "print(\"Unique Zip Codes (Origin):\", unique_zipcodeOri)\n",
    "print(\"Unique Zip Codes (Merchant):\", unique_zipMerchant)\n"
   ]
  },
  {
   "cell_type": "code",
   "execution_count": 4,
   "id": "d38521a9-c2cb-4747-9978-2ed2764ed955",
   "metadata": {},
   "outputs": [
    {
     "name": "stdout",
     "output_type": "stream",
     "text": [
      "Redundant columns removed\n"
     ]
    }
   ],
   "source": [
    "# Removing redundant features\n",
    "if unique_zipcodeOri == 1 and unique_zipMerchant == 1:\n",
    "    data = data.drop(['zipcodeOri', 'zipMerchant'], axis=1)\n",
    "    print(\"Redundant columns removed\")\n",
    "else:\n",
    "    print(\"No redundant columns to remove\")\n"
   ]
  },
  {
   "cell_type": "code",
   "execution_count": 5,
   "id": "6775cad3-a8de-4457-ab0e-3e6fb4c469d3",
   "metadata": {},
   "outputs": [
    {
     "name": "stdout",
     "output_type": "stream",
     "text": [
      "Categorical variables encoded and amount scaled\n"
     ]
    }
   ],
   "source": [
    "from sklearn.preprocessing import StandardScaler, LabelEncoder\n",
    "\n",
    "# Encoding categorical variables\n",
    "label_encoders = {}\n",
    "for column in ['customer', 'merchant', 'category', 'age', 'gender']:\n",
    "    label_encoders[column] = LabelEncoder()\n",
    "    data[column] = label_encoders[column].fit_transform(data[column])\n",
    "\n",
    "# Feature Scaling for 'amount'\n",
    "scaler = StandardScaler()\n",
    "data['amount'] = scaler.fit_transform(data[['amount']])\n",
    "\n",
    "print(\"Categorical variables encoded and amount scaled\")\n"
   ]
  },
  {
   "cell_type": "code",
   "execution_count": 6,
   "id": "0f9aedce-1807-4237-863a-854f7421f01b",
   "metadata": {},
   "outputs": [
    {
     "name": "stdout",
     "output_type": "stream",
     "text": [
      "Data split into training and test sets\n"
     ]
    }
   ],
   "source": [
    "from sklearn.model_selection import train_test_split\n",
    "\n",
    "# Splitting the dataset into training and testing sets\n",
    "X = data.drop('fraud', axis=1)\n",
    "y = data['fraud']\n",
    "X_train, X_test, y_train, y_test = train_test_split(X, y, test_size=0.2, random_state=42)\n",
    "\n",
    "print(\"Data split into training and test sets\")\n"
   ]
  },
  {
   "cell_type": "code",
   "execution_count": 7,
   "id": "f8e48c95-7455-444a-8357-cab56d9436fb",
   "metadata": {},
   "outputs": [
    {
     "name": "stdout",
     "output_type": "stream",
     "text": [
      "Random Forest model trained\n"
     ]
    }
   ],
   "source": [
    "from sklearn.ensemble import RandomForestClassifier\n",
    "\n",
    "# Model Training with Random Forest\n",
    "random_forest_model = RandomForestClassifier(random_state=42)\n",
    "random_forest_model.fit(X_train, y_train)\n",
    "\n",
    "print(\"Random Forest model trained\")\n"
   ]
  },
  {
   "cell_type": "code",
   "execution_count": 8,
   "id": "584adc4f-72cb-4300-b202-54e9ef87dcfc",
   "metadata": {},
   "outputs": [
    {
     "name": "stdout",
     "output_type": "stream",
     "text": [
      "Confusion Matrix:\n",
      " [[117399    113]\n",
      " [   345   1072]]\n",
      "Classification Report:\n",
      "               precision    recall  f1-score   support\n",
      "\n",
      "           0       1.00      1.00      1.00    117512\n",
      "           1       0.90      0.76      0.82      1417\n",
      "\n",
      "    accuracy                           1.00    118929\n",
      "   macro avg       0.95      0.88      0.91    118929\n",
      "weighted avg       1.00      1.00      1.00    118929\n",
      "\n"
     ]
    }
   ],
   "source": [
    "from sklearn.metrics import classification_report, confusion_matrix\n",
    "\n",
    "# Predicting on the test set\n",
    "y_pred = random_forest_model.predict(X_test)\n",
    "\n",
    "# Model Evaluation\n",
    "confusion_mat = confusion_matrix(y_test, y_pred)\n",
    "classification_rep = classification_report(y_test, y_pred)\n",
    "\n",
    "print(\"Confusion Matrix:\\n\", confusion_mat)\n",
    "print(\"Classification Report:\\n\", classification_rep)\n"
   ]
  },
  {
   "cell_type": "code",
   "execution_count": 11,
   "id": "09fc464a-f470-4d87-b76b-fe0a163d6ced",
   "metadata": {},
   "outputs": [
    {
     "data": {
      "image/png": "[encoded data removed]",
      "text/plain": [
       "<Figure size 800x600 with 2 Axes>"
      ]
     },
     "metadata": {},
     "output_type": "display_data"
    }
   ],
   "source": [
    "import matplotlib.pyplot as plt\n",
    "import seaborn as sns\n",
    "\n",
    "# Plotting the confusion matrix\n",
    "plt.figure(figsize=(8, 6))\n",
    "sns.heatmap(confusion_mat, annot=True, fmt=\"d\", cmap=\"Blues\")\n",
    "plt.title(\"Confusion Matrix\")\n",
    "plt.ylabel(\"Actual Label\")\n",
    "plt.xlabel(\"Predicted Label\")\n",
    "plt.show()\n"
   ]
  },
  {
   "cell_type": "code",
   "execution_count": 12,
   "id": "ce0ed1a1-fefe-4f78-8a8b-6463c5f398f7",
   "metadata": {},
   "outputs": [
    {
     "name": "stdout",
     "output_type": "stream",
     "text": [
      "The transaction is predicted to be non-fraudulent.\n"
     ]
    },
    {
     "name": "stderr",
     "output_type": "stream",
     "text": [
      "C:\\Anaconda3\\Lib\\site-packages\\sklearn\\base.py:465: UserWarning: X does not have valid feature names, but RandomForestClassifier was fitted with feature names\n",
      "  warnings.warn(\n"
     ]
    }
   ],
   "source": [
    "import numpy as np\n",
    "new_transaction_preprocessed = np.array([[15,   # step\n",
    "                                          102,  # encoded customer ID\n",
    "                                          3,    # encoded age group\n",
    "                                          1,    # encoded gender (0 for F, 1 for M)\n",
    "                                          12,   # encoded merchant ID\n",
    "                                          4,    # encoded category\n",
    "                                          0.5   # scaled amount \n",
    "                                         ]])\n",
    "\n",
    "# Predicting with the model\n",
    "fraud_prediction = random_forest_model.predict(new_transaction_preprocessed)\n",
    "\n",
    "# Interpreting the prediction\n",
    "if fraud_prediction[0] == 1:\n",
    "    print(\"The transaction is predicted to be fraudulent.\")\n",
    "else:\n",
    "    print(\"The transaction is predicted to be non-fraudulent.\")"
   ]
  },
  {
   "cell_type": "code",
   "execution_count": null,
   "id": "e6a8d6e1-3bcf-46bc-a908-e3ee6136768c",
   "metadata": {},
   "outputs": [],
   "source": []
  }
 ],
 "metadata": {
  "kernelspec": {
   "display_name": "Python 3 (ipykernel)",
   "language": "python",
   "name": "python3"
  },
  "language_info": {
   "codemirror_mode": {
    "name": "ipython",
    "version": 3
   },
   "file_extension": ".py",
   "mimetype": "text/x-python",
   "name": "python",
   "nbconvert_exporter": "python",
   "pygments_lexer": "ipython3",
   "version": "3.11.5"
  }
 },
 "nbformat": 4,
 "nbformat_minor": 5
}
