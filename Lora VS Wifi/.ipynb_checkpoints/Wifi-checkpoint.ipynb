{
 "cells": [
  {
   "cell_type": "code",
   "execution_count": 4,
   "id": "464b5ab5-7652-46b9-b577-52fd1b80a77c",
   "metadata": {},
   "outputs": [
    {
     "data": {
      "text/plain": [
       "(     Node  RSSI Distance Position\n",
       " 0  Node C   -51        1       D1\n",
       " 1  Node B   -40        1       D1\n",
       " 2  Node A   -43        1       D1\n",
       " 3  Node C   -50        1       D1\n",
       " 4  Node B   -38        1       D1,\n",
       "               RSSI\n",
       " count  5778.000000\n",
       " mean    -51.227934\n",
       " std       5.862760\n",
       " min     -65.000000\n",
       " 25%     -55.750000\n",
       " 50%     -53.000000\n",
       " 75%     -47.000000\n",
       " max     -37.000000)"
      ]
     },
     "execution_count": 4,
     "metadata": {},
     "output_type": "execute_result"
    }
   ],
   "source": [
    "import pandas as pd\n",
    "import os\n",
    "\n",
    "# Function to load and process the LoRaWAN dataset from a given environment\n",
    "def load_wifi_dataset(env_path):\n",
    "    files = os.listdir(env_path)\n",
    "    data_list = []\n",
    "\n",
    "    for file in files:\n",
    "        if file.endswith('.txt'):  # Ignore any non-txt file (e.g., the 'test' item in Environment 2)\n",
    "            distance, position = file.split('.')[0].split('D')\n",
    "            distance = distance.strip()  # Distance value\n",
    "            position = 'D' + position.strip()  # Position value\n",
    "\n",
    "            with open(os.path.join(env_path, file), 'r') as f:\n",
    "                for line in f:\n",
    "                    if line.strip():\n",
    "                        node, rssi = line.split(':')\n",
    "                        data_list.append({\n",
    "                            'Node': node.strip(),\n",
    "                            'RSSI': int(rssi.strip()),\n",
    "                            'Distance': distance,\n",
    "                            'Position': position\n",
    "                        })\n",
    "\n",
    "    return pd.DataFrame(data_list)\n",
    "\n",
    "# Load LoRaWAN datasets for both environments\n",
    "env1_wifi_data = load_wifi_dataset(\"C:\\\\Users\\\\Hamza Khalid\\\\Desktop\\\\Mam Afeera\\\\Provided data\\\\Environment 1\\\\WiFi\")\n",
    "env2_wifi_data = load_wifi_dataset(\"C:\\\\Users\\\\Hamza Khalid\\\\Desktop\\\\Mam Afeera\\\\Provided data\\\\Environment 2\\\\WiFi\")\n",
    "\n",
    "# Combine datasets from both environments into one dataframe\n",
    "combined_wifi_data = pd.concat([env1_wifi_data, env2_wifi_data], ignore_index=True)\n",
    "\n",
    "# Display the structure of the combined dataset\n",
    "combined_wifi_data.head(), combined_wifi_data.describe()\n"
   ]
  },
  {
   "cell_type": "code",
   "execution_count": 5,
   "id": "dd025d66-d310-4732-adfc-586f383b3f9f",
   "metadata": {},
   "outputs": [],
   "source": [
    "from sklearn.preprocessing import LabelEncoder\n",
    "from sklearn.model_selection import train_test_split"
   ]
  },
  {
   "cell_type": "code",
   "execution_count": 7,
   "id": "ea9a0ce3-c3c9-48d9-b4b6-043c737d21ba",
   "metadata": {},
   "outputs": [
    {
     "name": "stdout",
     "output_type": "stream",
     "text": [
      "X_train shape: (4622, 2)\n",
      "X_test shape: (1156, 2)\n",
      "y_train shape: (4622,)\n",
      "y_test shape: (1156,)\n"
     ]
    }
   ],
   "source": [
    "# Initialize label encoders\n",
    "node_encoder = LabelEncoder()\n",
    "distance_encoder = LabelEncoder()\n",
    "\n",
    "# Encode categorical columns\n",
    "combined_wifi_data['Node'] = node_encoder.fit_transform(combined_wifi_data['Node'])\n",
    "combined_wifi_data['Distance'] = distance_encoder.fit_transform(combined_wifi_data['Distance'])\n",
    "\n",
    "# Define features (X) and label (y)\n",
    "X = combined_wifi_data[['Node', 'RSSI']]  # Using 'Node' and 'RSSI' as features\n",
    "y = combined_wifi_data['Distance']  # Using 'Distance' as the label\n",
    "\n",
    "# Split the dataset into training and testing sets\n",
    "X_train, X_test, y_train, y_test = train_test_split(X, y, test_size=0.2, random_state=42)\n",
    "\n",
    "# Display the shapes of the training and testing data\n",
    "print(f\"X_train shape: {X_train.shape}\")\n",
    "print(f\"X_test shape: {X_test.shape}\")\n",
    "print(f\"y_train shape: {y_train.shape}\")\n",
    "print(f\"y_test shape: {y_test.shape}\")\n"
   ]
  },
  {
   "cell_type": "code",
   "execution_count": 8,
   "id": "79d5200c-9fd6-44e3-935c-5aa8f7d157e4",
   "metadata": {},
   "outputs": [
    {
     "data": {
      "text/plain": [
       "{'KNN': 0.6721453287197232,\n",
       " 'Decision Tree': 0.7093425605536332,\n",
       " 'Random Forest': 0.7093425605536332,\n",
       " 'Neural Network': 0.634083044982699,\n",
       " 'SVM': 0.639273356401384,\n",
       " 'Naive Bayes': 0.6505190311418685}"
      ]
     },
     "execution_count": 8,
     "metadata": {},
     "output_type": "execute_result"
    }
   ],
   "source": [
    "from sklearn.neighbors import KNeighborsClassifier\n",
    "from sklearn.tree import DecisionTreeClassifier\n",
    "from sklearn.ensemble import RandomForestClassifier\n",
    "from sklearn.neural_network import MLPClassifier\n",
    "from sklearn.svm import SVC\n",
    "from sklearn.naive_bayes import GaussianNB\n",
    "from sklearn.metrics import accuracy_score\n",
    "\n",
    "# Initialize the models\n",
    "knn = KNeighborsClassifier()\n",
    "decision_tree = DecisionTreeClassifier()\n",
    "random_forest = RandomForestClassifier()\n",
    "mlp = MLPClassifier(max_iter=1000)  # Increased max_iter for convergence\n",
    "svm = SVC()\n",
    "naive_bayes = GaussianNB()\n",
    "\n",
    "models = {\n",
    "    \"KNN\": knn,\n",
    "    \"Decision Tree\": decision_tree,\n",
    "    \"Random Forest\": random_forest,\n",
    "    \"Neural Network\": mlp,\n",
    "    \"SVM\": svm,\n",
    "    \"Naive Bayes\": naive_bayes\n",
    "}\n",
    "\n",
    "# Dictionary to store accuracy of each model\n",
    "accuracy_scores = {}\n",
    "\n",
    "# Train and evaluate each model\n",
    "for name, model in models.items():\n",
    "    model.fit(X_train, y_train)\n",
    "    y_pred = model.predict(X_test)\n",
    "    accuracy = accuracy_score(y_test, y_pred)\n",
    "    accuracy_scores[name] = accuracy\n",
    "\n",
    "accuracy_scores\n"
   ]
  },
  {
   "cell_type": "code",
   "execution_count": null,
   "id": "35305878-6158-4e27-8b2d-e4a7b75b43e7",
   "metadata": {},
   "outputs": [],
   "source": []
  },
  {
   "cell_type": "code",
   "execution_count": 1,
   "id": "04aa8cb1-0f4d-4941-ba5f-a0215819a4d5",
   "metadata": {},
   "outputs": [
    {
     "data": {
      "image/png": "[encoded data removed]",
      "text/plain": [
       "<Figure size 1000x600 with 1 Axes>"
      ]
     },
     "metadata": {},
     "output_type": "display_data"
    }
   ],
   "source": [
    "import matplotlib.pyplot as plt\n",
    "import pandas as pd\n",
    "\n",
    "# Example model accuracies\n",
    "model_accuracies = {\n",
    "    \"KNN\": 0.67,\n",
    "    \"Decision Tree\": 0.70,\n",
    "    \"Random Forest\": 0.70,\n",
    "    \"Neural Network\": 0.63,\n",
    "    \"SVM\": 0.63,\n",
    "    \"Naive Bayes\": 0.65\n",
    "}\n",
    "\n",
    "# Convert dictionary to DataFrame for plotting\n",
    "accuracies_df = pd.DataFrame(list(model_accuracies.items()), columns=['Model', 'Accuracy'])\n",
    "\n",
    "# Create the bar plot\n",
    "plt.figure(figsize=(10, 6))\n",
    "plt.barh(accuracies_df['Model'], accuracies_df['Accuracy'], color='skyblue')\n",
    "plt.xlabel('Accuracy')\n",
    "plt.ylabel('Model')\n",
    "plt.title('Model Accuracies Comparison')\n",
    "plt.xlim(0, 1)  # Ensure the x-axis starts at 0 and ends at 1 for clarity\n",
    "plt.tight_layout()  # Adjust layout to make room for the labels\n",
    "\n",
    "# Display the plot\n",
    "plt.show()\n"
   ]
  },
  {
   "cell_type": "code",
   "execution_count": null,
   "id": "83f96352-704f-46c1-8ef3-89b5774918d4",
   "metadata": {},
   "outputs": [],
   "source": []
  }
 ],
 "metadata": {
  "kernelspec": {
   "display_name": "Python 3 (ipykernel)",
   "language": "python",
   "name": "python3"
  },
  "language_info": {
   "codemirror_mode": {
    "name": "ipython",
    "version": 3
   },
   "file_extension": ".py",
   "mimetype": "text/x-python",
   "name": "python",
   "nbconvert_exporter": "python",
   "pygments_lexer": "ipython3",
   "version": "3.11.5"
  }
 },
 "nbformat": 4,
 "nbformat_minor": 5
}
