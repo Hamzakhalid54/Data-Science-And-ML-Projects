{
 "cells": [
  {
   "cell_type": "code",
   "execution_count": 14,
   "id": "6da28c49-b06f-4aad-8ff9-27ca061bc178",
   "metadata": {},
   "outputs": [
    {
     "data": {
      "text/plain": [
       "(     Node  RSSI Distance Position\n",
       " 0  Node B   -23        1       D1\n",
       " 1  Node C   -32        1       D1\n",
       " 2  Node A   -24        1       D1\n",
       " 3  Node B   -24        1       D1\n",
       " 4  Node C   -32        1       D1,\n",
       "               RSSI\n",
       " count  5760.000000\n",
       " mean    -30.971181\n",
       " std       4.649948\n",
       " min     -53.000000\n",
       " 25%     -35.000000\n",
       " 50%     -31.000000\n",
       " 75%     -27.000000\n",
       " max     -23.000000)"
      ]
     },
     "execution_count": 14,
     "metadata": {},
     "output_type": "execute_result"
    }
   ],
   "source": [
    "import pandas as pd\n",
    "import os\n",
    "\n",
    "# Function to load and process the LoRaWAN dataset from a given environment\n",
    "def load_lorawan_dataset(env_path):\n",
    "    files = os.listdir(env_path)\n",
    "    data_list = []\n",
    "\n",
    "    for file in files:\n",
    "        if file.endswith('.txt'):  # Ignore any non-txt file (e.g., the 'test' item in Environment 2)\n",
    "            distance, position = file.split('.')[0].split('D')\n",
    "            distance = distance.strip()  # Distance value\n",
    "            position = 'D' + position.strip()  # Position value\n",
    "\n",
    "            with open(os.path.join(env_path, file), 'r') as f:\n",
    "                for line in f:\n",
    "                    if line.strip():\n",
    "                        node, rssi = line.split(':')\n",
    "                        data_list.append({\n",
    "                            'Node': node.strip(),\n",
    "                            'RSSI': int(rssi.strip()),\n",
    "                            'Distance': distance,\n",
    "                            'Position': position\n",
    "                        })\n",
    "\n",
    "    return pd.DataFrame(data_list)\n",
    "\n",
    "# Load LoRaWAN datasets for both environments\n",
    "env1_lorawan_data = load_lorawan_dataset(\"C:\\\\Users\\\\Hamza Khalid\\\\Desktop\\\\Mam Afeera\\\\Provided data\\\\Environment 1\\\\LoRaWAN\")\n",
    "env2_lorawan_data = load_lorawan_dataset(\"C:\\\\Users\\\\Hamza Khalid\\\\Desktop\\\\Mam Afeera\\\\Provided data\\\\Environment 2\\\\LoRaWAN\")\n",
    "\n",
    "# Combine datasets from both environments into one dataframe\n",
    "combined_lorawan_data = pd.concat([env1_lorawan_data, env2_lorawan_data], ignore_index=True)\n",
    "\n",
    "# Display the structure of the combined dataset\n",
    "combined_lorawan_data.head(), combined_lorawan_data.describe()\n"
   ]
  },
  {
   "cell_type": "code",
   "execution_count": null,
   "id": "3d126152-1b97-43f3-bb83-a3b42b52af1c",
   "metadata": {},
   "outputs": [],
   "source": []
  },
  {
   "cell_type": "code",
   "execution_count": 15,
   "id": "4df7695b-89c7-4e2f-bfe8-fd86ef160965",
   "metadata": {},
   "outputs": [],
   "source": [
    "from sklearn.preprocessing import LabelEncoder\n",
    "from sklearn.model_selection import train_test_split"
   ]
  },
  {
   "cell_type": "code",
   "execution_count": 16,
   "id": "08585a13-e901-4e71-8b90-7e686b1ff4bf",
   "metadata": {},
   "outputs": [
    {
     "name": "stdout",
     "output_type": "stream",
     "text": [
      "X_train shape: (4608, 2)\n",
      "X_test shape: (1152, 2)\n",
      "y_train shape: (4608,)\n",
      "y_test shape: (1152,)\n"
     ]
    }
   ],
   "source": [
    "# Initialize label encoders\n",
    "node_encoder = LabelEncoder()\n",
    "distance_encoder = LabelEncoder()\n",
    "\n",
    "# Encode categorical columns\n",
    "combined_lorawan_data['Node'] = node_encoder.fit_transform(combined_lorawan_data['Node'])\n",
    "combined_lorawan_data['Distance'] = distance_encoder.fit_transform(combined_lorawan_data['Distance'])\n",
    "\n",
    "# Define features (X) and label (y)\n",
    "X = combined_lorawan_data[['Node', 'RSSI']]  # Using 'Node' and 'RSSI' as features\n",
    "y = combined_lorawan_data['Distance']  # Using 'Distance' as the label\n",
    "\n",
    "# Split the dataset into training and testing sets\n",
    "X_train, X_test, y_train, y_test = train_test_split(X, y, test_size=0.2, random_state=42)\n",
    "\n",
    "# Display the shapes of the training and testing data\n",
    "print(f\"X_train shape: {X_train.shape}\")\n",
    "print(f\"X_test shape: {X_test.shape}\")\n",
    "print(f\"y_train shape: {y_train.shape}\")\n",
    "print(f\"y_test shape: {y_test.shape}\")\n"
   ]
  },
  {
   "cell_type": "code",
   "execution_count": 17,
   "id": "331f15f8-dbc2-4d8e-9e68-d4243b2f9011",
   "metadata": {},
   "outputs": [
    {
     "data": {
      "text/plain": [
       "{'KNN': 0.7647569444444444,\n",
       " 'Decision Tree': 0.7899305555555556,\n",
       " 'Random Forest': 0.7899305555555556,\n",
       " 'Neural Network': 0.6770833333333334,\n",
       " 'SVM': 0.6692708333333334,\n",
       " 'Naive Bayes': 0.6328125}"
      ]
     },
     "execution_count": 17,
     "metadata": {},
     "output_type": "execute_result"
    }
   ],
   "source": [
    "from sklearn.neighbors import KNeighborsClassifier\n",
    "from sklearn.tree import DecisionTreeClassifier\n",
    "from sklearn.ensemble import RandomForestClassifier\n",
    "from sklearn.neural_network import MLPClassifier\n",
    "from sklearn.svm import SVC\n",
    "from sklearn.naive_bayes import GaussianNB\n",
    "from sklearn.metrics import accuracy_score\n",
    "\n",
    "# Initialize the models\n",
    "knn = KNeighborsClassifier()\n",
    "decision_tree = DecisionTreeClassifier()\n",
    "random_forest = RandomForestClassifier()\n",
    "mlp = MLPClassifier(max_iter=1000)  # Increased max_iter for convergence\n",
    "svm = SVC()\n",
    "naive_bayes = GaussianNB()\n",
    "\n",
    "models = {\n",
    "    \"KNN\": knn,\n",
    "    \"Decision Tree\": decision_tree,\n",
    "    \"Random Forest\": random_forest,\n",
    "    \"Neural Network\": mlp,\n",
    "    \"SVM\": svm,\n",
    "    \"Naive Bayes\": naive_bayes\n",
    "}\n",
    "\n",
    "# Dictionary to store accuracy of each model\n",
    "accuracy_scores = {}\n",
    "\n",
    "# Train and evaluate each model\n",
    "for name, model in models.items():\n",
    "    model.fit(X_train, y_train)\n",
    "    y_pred = model.predict(X_test)\n",
    "    accuracy = accuracy_score(y_test, y_pred)\n",
    "    accuracy_scores[name] = accuracy\n",
    "\n",
    "accuracy_scores\n"
   ]
  },
  {
   "cell_type": "code",
   "execution_count": null,
   "id": "0b5d8b48-2f76-4420-a9f2-ea8e573a688c",
   "metadata": {},
   "outputs": [],
   "source": []
  }
 ],
 "metadata": {
  "kernelspec": {
   "display_name": "Python 3 (ipykernel)",
   "language": "python",
   "name": "python3"
  },
  "language_info": {
   "codemirror_mode": {
    "name": "ipython",
    "version": 3
   },
   "file_extension": ".py",
   "mimetype": "text/x-python",
   "name": "python",
   "nbconvert_exporter": "python",
   "pygments_lexer": "ipython3",
   "version": "3.11.5"
  }
 },
 "nbformat": 4,
 "nbformat_minor": 5
}
