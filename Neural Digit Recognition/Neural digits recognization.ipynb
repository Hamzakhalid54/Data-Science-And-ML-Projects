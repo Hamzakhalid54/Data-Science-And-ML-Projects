{
 "cells": [
  {
   "cell_type": "code",
   "execution_count": 2,
   "id": "700896d0",
   "metadata": {},
   "outputs": [
    {
     "name": "stdout",
     "output_type": "stream",
     "text": [
      "WARNING:tensorflow:From C:\\Anaconda3\\Lib\\site-packages\\keras\\src\\losses.py:2976: The name tf.losses.sparse_softmax_cross_entropy is deprecated. Please use tf.compat.v1.losses.sparse_softmax_cross_entropy instead.\n",
      "\n"
     ]
    }
   ],
   "source": [
    "import tensorflow as tf\n",
    "from tensorflow import keras\n",
    "import matplotlib.pyplot as plt\n",
    "%matplotlib inline\n",
    "import numpy as np"
   ]
  },
  {
   "cell_type": "code",
   "execution_count": 3,
   "id": "5c9dd5f5",
   "metadata": {},
   "outputs": [
    {
     "name": "stdout",
     "output_type": "stream",
     "text": [
      "Downloading data from https://storage.googleapis.com/tensorflow/tf-keras-datasets/mnist.npz\n",
      "11490434/11490434 [==============================] - 8s 1us/step\n"
     ]
    }
   ],
   "source": [
    "(X_train,y_train),(X_test,y_test) = keras.datasets.mnist.load_data()"
   ]
  },
  {
   "cell_type": "code",
   "execution_count": 4,
   "id": "58530e30",
   "metadata": {},
   "outputs": [
    {
     "data": {
      "text/plain": [
       "60000"
      ]
     },
     "execution_count": 4,
     "metadata": {},
     "output_type": "execute_result"
    }
   ],
   "source": [
    "len(X_train)"
   ]
  },
  {
   "cell_type": "code",
   "execution_count": 5,
   "id": "8d3a570c",
   "metadata": {},
   "outputs": [
    {
     "data": {
      "text/plain": [
       "10000"
      ]
     },
     "execution_count": 5,
     "metadata": {},
     "output_type": "execute_result"
    }
   ],
   "source": [
    "len(X_test)"
   ]
  },
  {
   "cell_type": "code",
   "execution_count": 6,
   "id": "308218ca",
   "metadata": {},
   "outputs": [
    {
     "data": {
      "text/plain": [
       "(28, 28)"
      ]
     },
     "execution_count": 6,
     "metadata": {},
     "output_type": "execute_result"
    }
   ],
   "source": [
    "X_train[0].shape"
   ]
  },
  {
   "cell_type": "code",
   "execution_count": 7,
   "id": "4753c967",
   "metadata": {},
   "outputs": [
    {
     "data": {
      "text/plain": [
       "(28, 28)"
      ]
     },
     "execution_count": 7,
     "metadata": {},
     "output_type": "execute_result"
    }
   ],
   "source": [
    "X_train[1].shape"
   ]
  },
  {
   "cell_type": "code",
   "execution_count": 8,
   "id": "a72976fd",
   "metadata": {},
   "outputs": [
    {
     "data": {
      "text/plain": [
       "array([[  0,   0,   0,   0,   0,   0,   0,   0,   0,   0,   0,   0,   0,\n",
       "          0,   0,   0,   0,   0,   0,   0,   0,   0,   0,   0,   0,   0,\n",
       "          0,   0],\n",
       "       [  0,   0,   0,   0,   0,   0,   0,   0,   0,   0,   0,   0,   0,\n",
       "          0,   0,   0,   0,   0,   0,   0,   0,   0,   0,   0,   0,   0,\n",
       "          0,   0],\n",
       "       [  0,   0,   0,   0,   0,   0,   0,   0,   0,   0,   0,   0,   0,\n",
       "          0,   0,   0,   0,   0,   0,   0,   0,   0,   0,   0,   0,   0,\n",
       "          0,   0],\n",
       "       [  0,   0,   0,   0,   0,   0,   0,   0,   0,   0,   0,   0,   0,\n",
       "          0,   0,   0,   0,   0,   0,   0,   0,   0,   0,   0,   0,   0,\n",
       "          0,   0],\n",
       "       [  0,   0,   0,   0,   0,   0,   0,   0,   0,   0,   0,   0,   0,\n",
       "          0,   0,   0,   0,   0,   0,   0,   0,   0,   0,   0,   0,   0,\n",
       "          0,   0],\n",
       "       [  0,   0,   0,   0,   0,   0,   0,   0,   0,   0,   0,   0,   3,\n",
       "         18,  18,  18, 126, 136, 175,  26, 166, 255, 247, 127,   0,   0,\n",
       "          0,   0],\n",
       "       [  0,   0,   0,   0,   0,   0,   0,   0,  30,  36,  94, 154, 170,\n",
       "        253, 253, 253, 253, 253, 225, 172, 253, 242, 195,  64,   0,   0,\n",
       "          0,   0],\n",
       "       [  0,   0,   0,   0,   0,   0,   0,  49, 238, 253, 253, 253, 253,\n",
       "        253, 253, 253, 253, 251,  93,  82,  82,  56,  39,   0,   0,   0,\n",
       "          0,   0],\n",
       "       [  0,   0,   0,   0,   0,   0,   0,  18, 219, 253, 253, 253, 253,\n",
       "        253, 198, 182, 247, 241,   0,   0,   0,   0,   0,   0,   0,   0,\n",
       "          0,   0],\n",
       "       [  0,   0,   0,   0,   0,   0,   0,   0,  80, 156, 107, 253, 253,\n",
       "        205,  11,   0,  43, 154,   0,   0,   0,   0,   0,   0,   0,   0,\n",
       "          0,   0],\n",
       "       [  0,   0,   0,   0,   0,   0,   0,   0,   0,  14,   1, 154, 253,\n",
       "         90,   0,   0,   0,   0,   0,   0,   0,   0,   0,   0,   0,   0,\n",
       "          0,   0],\n",
       "       [  0,   0,   0,   0,   0,   0,   0,   0,   0,   0,   0, 139, 253,\n",
       "        190,   2,   0,   0,   0,   0,   0,   0,   0,   0,   0,   0,   0,\n",
       "          0,   0],\n",
       "       [  0,   0,   0,   0,   0,   0,   0,   0,   0,   0,   0,  11, 190,\n",
       "        253,  70,   0,   0,   0,   0,   0,   0,   0,   0,   0,   0,   0,\n",
       "          0,   0],\n",
       "       [  0,   0,   0,   0,   0,   0,   0,   0,   0,   0,   0,   0,  35,\n",
       "        241, 225, 160, 108,   1,   0,   0,   0,   0,   0,   0,   0,   0,\n",
       "          0,   0],\n",
       "       [  0,   0,   0,   0,   0,   0,   0,   0,   0,   0,   0,   0,   0,\n",
       "         81, 240, 253, 253, 119,  25,   0,   0,   0,   0,   0,   0,   0,\n",
       "          0,   0],\n",
       "       [  0,   0,   0,   0,   0,   0,   0,   0,   0,   0,   0,   0,   0,\n",
       "          0,  45, 186, 253, 253, 150,  27,   0,   0,   0,   0,   0,   0,\n",
       "          0,   0],\n",
       "       [  0,   0,   0,   0,   0,   0,   0,   0,   0,   0,   0,   0,   0,\n",
       "          0,   0,  16,  93, 252, 253, 187,   0,   0,   0,   0,   0,   0,\n",
       "          0,   0],\n",
       "       [  0,   0,   0,   0,   0,   0,   0,   0,   0,   0,   0,   0,   0,\n",
       "          0,   0,   0,   0, 249, 253, 249,  64,   0,   0,   0,   0,   0,\n",
       "          0,   0],\n",
       "       [  0,   0,   0,   0,   0,   0,   0,   0,   0,   0,   0,   0,   0,\n",
       "          0,  46, 130, 183, 253, 253, 207,   2,   0,   0,   0,   0,   0,\n",
       "          0,   0],\n",
       "       [  0,   0,   0,   0,   0,   0,   0,   0,   0,   0,   0,   0,  39,\n",
       "        148, 229, 253, 253, 253, 250, 182,   0,   0,   0,   0,   0,   0,\n",
       "          0,   0],\n",
       "       [  0,   0,   0,   0,   0,   0,   0,   0,   0,   0,  24, 114, 221,\n",
       "        253, 253, 253, 253, 201,  78,   0,   0,   0,   0,   0,   0,   0,\n",
       "          0,   0],\n",
       "       [  0,   0,   0,   0,   0,   0,   0,   0,  23,  66, 213, 253, 253,\n",
       "        253, 253, 198,  81,   2,   0,   0,   0,   0,   0,   0,   0,   0,\n",
       "          0,   0],\n",
       "       [  0,   0,   0,   0,   0,   0,  18, 171, 219, 253, 253, 253, 253,\n",
       "        195,  80,   9,   0,   0,   0,   0,   0,   0,   0,   0,   0,   0,\n",
       "          0,   0],\n",
       "       [  0,   0,   0,   0,  55, 172, 226, 253, 253, 253, 253, 244, 133,\n",
       "         11,   0,   0,   0,   0,   0,   0,   0,   0,   0,   0,   0,   0,\n",
       "          0,   0],\n",
       "       [  0,   0,   0,   0, 136, 253, 253, 253, 212, 135, 132,  16,   0,\n",
       "          0,   0,   0,   0,   0,   0,   0,   0,   0,   0,   0,   0,   0,\n",
       "          0,   0],\n",
       "       [  0,   0,   0,   0,   0,   0,   0,   0,   0,   0,   0,   0,   0,\n",
       "          0,   0,   0,   0,   0,   0,   0,   0,   0,   0,   0,   0,   0,\n",
       "          0,   0],\n",
       "       [  0,   0,   0,   0,   0,   0,   0,   0,   0,   0,   0,   0,   0,\n",
       "          0,   0,   0,   0,   0,   0,   0,   0,   0,   0,   0,   0,   0,\n",
       "          0,   0],\n",
       "       [  0,   0,   0,   0,   0,   0,   0,   0,   0,   0,   0,   0,   0,\n",
       "          0,   0,   0,   0,   0,   0,   0,   0,   0,   0,   0,   0,   0,\n",
       "          0,   0]], dtype=uint8)"
      ]
     },
     "execution_count": 8,
     "metadata": {},
     "output_type": "execute_result"
    }
   ],
   "source": [
    "X_train[0]\n"
   ]
  },
  {
   "cell_type": "code",
   "execution_count": 9,
   "id": "a2bcefa4",
   "metadata": {},
   "outputs": [
    {
     "data": {
      "text/plain": [
       "<matplotlib.image.AxesImage at 0x2346593ab90>"
      ]
     },
     "execution_count": 9,
     "metadata": {},
     "output_type": "execute_result"
    },
    {
     "data": {
      "image/png": "[encoded data removed]",
      "text/plain": [
       "<Figure size 480x480 with 1 Axes>"
      ]
     },
     "metadata": {},
     "output_type": "display_data"
    }
   ],
   "source": [
    "plt.matshow(X_train[0])"
   ]
  },
  {
   "cell_type": "code",
   "execution_count": 10,
   "id": "cf340db5",
   "metadata": {},
   "outputs": [
    {
     "data": {
      "text/plain": [
       "<matplotlib.image.AxesImage at 0x234691c74d0>"
      ]
     },
     "execution_count": 10,
     "metadata": {},
     "output_type": "execute_result"
    },
    {
     "data": {
      "image/png": "[encoded data removed]",
      "text/plain": [
       "<Figure size 480x480 with 1 Axes>"
      ]
     },
     "metadata": {},
     "output_type": "display_data"
    }
   ],
   "source": [
    "plt.matshow(X_train[1])"
   ]
  },
  {
   "cell_type": "code",
   "execution_count": 11,
   "id": "bd7d826f",
   "metadata": {},
   "outputs": [
    {
     "data": {
      "text/plain": [
       "<matplotlib.image.AxesImage at 0x23469256bd0>"
      ]
     },
     "execution_count": 11,
     "metadata": {},
     "output_type": "execute_result"
    },
    {
     "data": {
      "image/png": "[encoded data removed]",
      "text/plain": [
       "<Figure size 480x480 with 1 Axes>"
      ]
     },
     "metadata": {},
     "output_type": "display_data"
    }
   ],
   "source": [
    "plt.matshow(X_train[5])"
   ]
  },
  {
   "cell_type": "code",
   "execution_count": 12,
   "id": "2a9feba6",
   "metadata": {},
   "outputs": [
    {
     "data": {
      "text/plain": [
       "2"
      ]
     },
     "execution_count": 12,
     "metadata": {},
     "output_type": "execute_result"
    }
   ],
   "source": [
    "y_train[5]"
   ]
  },
  {
   "cell_type": "code",
   "execution_count": 13,
   "id": "2665cf27",
   "metadata": {
    "scrolled": true
   },
   "outputs": [
    {
     "data": {
      "text/plain": [
       "array([5, 0, 4, 1, 9, 2, 1, 3, 1, 4, 3, 5, 3, 6, 1, 7, 2, 8, 6, 9, 4, 0,\n",
       "       9, 1, 1, 2, 4, 3, 2, 7, 3, 8, 6, 9, 0, 5, 6, 0, 7, 6, 1, 8, 7, 9,\n",
       "       3, 9, 8, 5, 9, 3], dtype=uint8)"
      ]
     },
     "execution_count": 13,
     "metadata": {},
     "output_type": "execute_result"
    }
   ],
   "source": [
    "y_train[:50]"
   ]
  },
  {
   "cell_type": "code",
   "execution_count": 14,
   "id": "8a49c9d5",
   "metadata": {
    "scrolled": true
   },
   "outputs": [
    {
     "data": {
      "text/plain": [
       "(60000, 28, 28)"
      ]
     },
     "execution_count": 14,
     "metadata": {},
     "output_type": "execute_result"
    }
   ],
   "source": [
    "X_train.shape\n"
   ]
  },
  {
   "cell_type": "code",
   "execution_count": 15,
   "id": "3d6e0c0b",
   "metadata": {},
   "outputs": [],
   "source": [
    "X_train=X_train/255\n",
    "X_test=X_test/255"
   ]
  },
  {
   "cell_type": "code",
   "execution_count": 16,
   "id": "082a3443",
   "metadata": {},
   "outputs": [],
   "source": [
    "X_train_flattened=X_train.reshape(len(X_train),28*28)\n",
    "X_test_flattened=X_test.reshape(len(X_test),28*28)"
   ]
  },
  {
   "cell_type": "code",
   "execution_count": 17,
   "id": "8d9907ff",
   "metadata": {},
   "outputs": [
    {
     "data": {
      "text/plain": [
       "(10000, 784)"
      ]
     },
     "execution_count": 17,
     "metadata": {},
     "output_type": "execute_result"
    }
   ],
   "source": [
    "X_train_flattened.shape\n",
    "X_test_flattened.shape"
   ]
  },
  {
   "cell_type": "code",
   "execution_count": 18,
   "id": "4ff1fe31",
   "metadata": {},
   "outputs": [
    {
     "data": {
      "text/plain": [
       "array([[0.        , 0.        , 0.        , 0.        , 0.        ,\n",
       "        0.        , 0.        , 0.        , 0.        , 0.        ,\n",
       "        0.        , 0.        , 0.        , 0.        , 0.        ,\n",
       "        0.        , 0.        , 0.        , 0.        , 0.        ,\n",
       "        0.        , 0.        , 0.        , 0.        , 0.        ,\n",
       "        0.        , 0.        , 0.        ],\n",
       "       [0.        , 0.        , 0.        , 0.        , 0.        ,\n",
       "        0.        , 0.        , 0.        , 0.        , 0.        ,\n",
       "        0.        , 0.        , 0.        , 0.        , 0.        ,\n",
       "        0.        , 0.        , 0.        , 0.        , 0.        ,\n",
       "        0.        , 0.        , 0.        , 0.        , 0.        ,\n",
       "        0.        , 0.        , 0.        ],\n",
       "       [0.        , 0.        , 0.        , 0.        , 0.        ,\n",
       "        0.        , 0.        , 0.        , 0.        , 0.        ,\n",
       "        0.        , 0.        , 0.        , 0.        , 0.        ,\n",
       "        0.        , 0.        , 0.        , 0.        , 0.        ,\n",
       "        0.        , 0.        , 0.        , 0.        , 0.        ,\n",
       "        0.        , 0.        , 0.        ],\n",
       "       [0.        , 0.        , 0.        , 0.        , 0.        ,\n",
       "        0.        , 0.        , 0.        , 0.        , 0.        ,\n",
       "        0.        , 0.        , 0.        , 0.        , 0.        ,\n",
       "        0.        , 0.        , 0.        , 0.        , 0.        ,\n",
       "        0.        , 0.        , 0.        , 0.        , 0.        ,\n",
       "        0.        , 0.        , 0.        ],\n",
       "       [0.        , 0.        , 0.        , 0.        , 0.        ,\n",
       "        0.        , 0.        , 0.        , 0.        , 0.        ,\n",
       "        0.        , 0.        , 0.        , 0.        , 0.        ,\n",
       "        0.        , 0.        , 0.        , 0.        , 0.        ,\n",
       "        0.        , 0.        , 0.        , 0.        , 0.        ,\n",
       "        0.        , 0.        , 0.        ],\n",
       "       [0.        , 0.        , 0.        , 0.        , 0.        ,\n",
       "        0.        , 0.        , 0.        , 0.        , 0.        ,\n",
       "        0.        , 0.        , 0.01176471, 0.07058824, 0.07058824,\n",
       "        0.07058824, 0.49411765, 0.53333333, 0.68627451, 0.10196078,\n",
       "        0.65098039, 1.        , 0.96862745, 0.49803922, 0.        ,\n",
       "        0.        , 0.        , 0.        ],\n",
       "       [0.        , 0.        , 0.        , 0.        , 0.        ,\n",
       "        0.        , 0.        , 0.        , 0.11764706, 0.14117647,\n",
       "        0.36862745, 0.60392157, 0.66666667, 0.99215686, 0.99215686,\n",
       "        0.99215686, 0.99215686, 0.99215686, 0.88235294, 0.6745098 ,\n",
       "        0.99215686, 0.94901961, 0.76470588, 0.25098039, 0.        ,\n",
       "        0.        , 0.        , 0.        ],\n",
       "       [0.        , 0.        , 0.        , 0.        , 0.        ,\n",
       "        0.        , 0.        , 0.19215686, 0.93333333, 0.99215686,\n",
       "        0.99215686, 0.99215686, 0.99215686, 0.99215686, 0.99215686,\n",
       "        0.99215686, 0.99215686, 0.98431373, 0.36470588, 0.32156863,\n",
       "        0.32156863, 0.21960784, 0.15294118, 0.        , 0.        ,\n",
       "        0.        , 0.        , 0.        ],\n",
       "       [0.        , 0.        , 0.        , 0.        , 0.        ,\n",
       "        0.        , 0.        , 0.07058824, 0.85882353, 0.99215686,\n",
       "        0.99215686, 0.99215686, 0.99215686, 0.99215686, 0.77647059,\n",
       "        0.71372549, 0.96862745, 0.94509804, 0.        , 0.        ,\n",
       "        0.        , 0.        , 0.        , 0.        , 0.        ,\n",
       "        0.        , 0.        , 0.        ],\n",
       "       [0.        , 0.        , 0.        , 0.        , 0.        ,\n",
       "        0.        , 0.        , 0.        , 0.31372549, 0.61176471,\n",
       "        0.41960784, 0.99215686, 0.99215686, 0.80392157, 0.04313725,\n",
       "        0.        , 0.16862745, 0.60392157, 0.        , 0.        ,\n",
       "        0.        , 0.        , 0.        , 0.        , 0.        ,\n",
       "        0.        , 0.        , 0.        ],\n",
       "       [0.        , 0.        , 0.        , 0.        , 0.        ,\n",
       "        0.        , 0.        , 0.        , 0.        , 0.05490196,\n",
       "        0.00392157, 0.60392157, 0.99215686, 0.35294118, 0.        ,\n",
       "        0.        , 0.        , 0.        , 0.        , 0.        ,\n",
       "        0.        , 0.        , 0.        , 0.        , 0.        ,\n",
       "        0.        , 0.        , 0.        ],\n",
       "       [0.        , 0.        , 0.        , 0.        , 0.        ,\n",
       "        0.        , 0.        , 0.        , 0.        , 0.        ,\n",
       "        0.        , 0.54509804, 0.99215686, 0.74509804, 0.00784314,\n",
       "        0.        , 0.        , 0.        , 0.        , 0.        ,\n",
       "        0.        , 0.        , 0.        , 0.        , 0.        ,\n",
       "        0.        , 0.        , 0.        ],\n",
       "       [0.        , 0.        , 0.        , 0.        , 0.        ,\n",
       "        0.        , 0.        , 0.        , 0.        , 0.        ,\n",
       "        0.        , 0.04313725, 0.74509804, 0.99215686, 0.2745098 ,\n",
       "        0.        , 0.        , 0.        , 0.        , 0.        ,\n",
       "        0.        , 0.        , 0.        , 0.        , 0.        ,\n",
       "        0.        , 0.        , 0.        ],\n",
       "       [0.        , 0.        , 0.        , 0.        , 0.        ,\n",
       "        0.        , 0.        , 0.        , 0.        , 0.        ,\n",
       "        0.        , 0.        , 0.1372549 , 0.94509804, 0.88235294,\n",
       "        0.62745098, 0.42352941, 0.00392157, 0.        , 0.        ,\n",
       "        0.        , 0.        , 0.        , 0.        , 0.        ,\n",
       "        0.        , 0.        , 0.        ],\n",
       "       [0.        , 0.        , 0.        , 0.        , 0.        ,\n",
       "        0.        , 0.        , 0.        , 0.        , 0.        ,\n",
       "        0.        , 0.        , 0.        , 0.31764706, 0.94117647,\n",
       "        0.99215686, 0.99215686, 0.46666667, 0.09803922, 0.        ,\n",
       "        0.        , 0.        , 0.        , 0.        , 0.        ,\n",
       "        0.        , 0.        , 0.        ],\n",
       "       [0.        , 0.        , 0.        , 0.        , 0.        ,\n",
       "        0.        , 0.        , 0.        , 0.        , 0.        ,\n",
       "        0.        , 0.        , 0.        , 0.        , 0.17647059,\n",
       "        0.72941176, 0.99215686, 0.99215686, 0.58823529, 0.10588235,\n",
       "        0.        , 0.        , 0.        , 0.        , 0.        ,\n",
       "        0.        , 0.        , 0.        ],\n",
       "       [0.        , 0.        , 0.        , 0.        , 0.        ,\n",
       "        0.        , 0.        , 0.        , 0.        , 0.        ,\n",
       "        0.        , 0.        , 0.        , 0.        , 0.        ,\n",
       "        0.0627451 , 0.36470588, 0.98823529, 0.99215686, 0.73333333,\n",
       "        0.        , 0.        , 0.        , 0.        , 0.        ,\n",
       "        0.        , 0.        , 0.        ],\n",
       "       [0.        , 0.        , 0.        , 0.        , 0.        ,\n",
       "        0.        , 0.        , 0.        , 0.        , 0.        ,\n",
       "        0.        , 0.        , 0.        , 0.        , 0.        ,\n",
       "        0.        , 0.        , 0.97647059, 0.99215686, 0.97647059,\n",
       "        0.25098039, 0.        , 0.        , 0.        , 0.        ,\n",
       "        0.        , 0.        , 0.        ],\n",
       "       [0.        , 0.        , 0.        , 0.        , 0.        ,\n",
       "        0.        , 0.        , 0.        , 0.        , 0.        ,\n",
       "        0.        , 0.        , 0.        , 0.        , 0.18039216,\n",
       "        0.50980392, 0.71764706, 0.99215686, 0.99215686, 0.81176471,\n",
       "        0.00784314, 0.        , 0.        , 0.        , 0.        ,\n",
       "        0.        , 0.        , 0.        ],\n",
       "       [0.        , 0.        , 0.        , 0.        , 0.        ,\n",
       "        0.        , 0.        , 0.        , 0.        , 0.        ,\n",
       "        0.        , 0.        , 0.15294118, 0.58039216, 0.89803922,\n",
       "        0.99215686, 0.99215686, 0.99215686, 0.98039216, 0.71372549,\n",
       "        0.        , 0.        , 0.        , 0.        , 0.        ,\n",
       "        0.        , 0.        , 0.        ],\n",
       "       [0.        , 0.        , 0.        , 0.        , 0.        ,\n",
       "        0.        , 0.        , 0.        , 0.        , 0.        ,\n",
       "        0.09411765, 0.44705882, 0.86666667, 0.99215686, 0.99215686,\n",
       "        0.99215686, 0.99215686, 0.78823529, 0.30588235, 0.        ,\n",
       "        0.        , 0.        , 0.        , 0.        , 0.        ,\n",
       "        0.        , 0.        , 0.        ],\n",
       "       [0.        , 0.        , 0.        , 0.        , 0.        ,\n",
       "        0.        , 0.        , 0.        , 0.09019608, 0.25882353,\n",
       "        0.83529412, 0.99215686, 0.99215686, 0.99215686, 0.99215686,\n",
       "        0.77647059, 0.31764706, 0.00784314, 0.        , 0.        ,\n",
       "        0.        , 0.        , 0.        , 0.        , 0.        ,\n",
       "        0.        , 0.        , 0.        ],\n",
       "       [0.        , 0.        , 0.        , 0.        , 0.        ,\n",
       "        0.        , 0.07058824, 0.67058824, 0.85882353, 0.99215686,\n",
       "        0.99215686, 0.99215686, 0.99215686, 0.76470588, 0.31372549,\n",
       "        0.03529412, 0.        , 0.        , 0.        , 0.        ,\n",
       "        0.        , 0.        , 0.        , 0.        , 0.        ,\n",
       "        0.        , 0.        , 0.        ],\n",
       "       [0.        , 0.        , 0.        , 0.        , 0.21568627,\n",
       "        0.6745098 , 0.88627451, 0.99215686, 0.99215686, 0.99215686,\n",
       "        0.99215686, 0.95686275, 0.52156863, 0.04313725, 0.        ,\n",
       "        0.        , 0.        , 0.        , 0.        , 0.        ,\n",
       "        0.        , 0.        , 0.        , 0.        , 0.        ,\n",
       "        0.        , 0.        , 0.        ],\n",
       "       [0.        , 0.        , 0.        , 0.        , 0.53333333,\n",
       "        0.99215686, 0.99215686, 0.99215686, 0.83137255, 0.52941176,\n",
       "        0.51764706, 0.0627451 , 0.        , 0.        , 0.        ,\n",
       "        0.        , 0.        , 0.        , 0.        , 0.        ,\n",
       "        0.        , 0.        , 0.        , 0.        , 0.        ,\n",
       "        0.        , 0.        , 0.        ],\n",
       "       [0.        , 0.        , 0.        , 0.        , 0.        ,\n",
       "        0.        , 0.        , 0.        , 0.        , 0.        ,\n",
       "        0.        , 0.        , 0.        , 0.        , 0.        ,\n",
       "        0.        , 0.        , 0.        , 0.        , 0.        ,\n",
       "        0.        , 0.        , 0.        , 0.        , 0.        ,\n",
       "        0.        , 0.        , 0.        ],\n",
       "       [0.        , 0.        , 0.        , 0.        , 0.        ,\n",
       "        0.        , 0.        , 0.        , 0.        , 0.        ,\n",
       "        0.        , 0.        , 0.        , 0.        , 0.        ,\n",
       "        0.        , 0.        , 0.        , 0.        , 0.        ,\n",
       "        0.        , 0.        , 0.        , 0.        , 0.        ,\n",
       "        0.        , 0.        , 0.        ],\n",
       "       [0.        , 0.        , 0.        , 0.        , 0.        ,\n",
       "        0.        , 0.        , 0.        , 0.        , 0.        ,\n",
       "        0.        , 0.        , 0.        , 0.        , 0.        ,\n",
       "        0.        , 0.        , 0.        , 0.        , 0.        ,\n",
       "        0.        , 0.        , 0.        , 0.        , 0.        ,\n",
       "        0.        , 0.        , 0.        ]])"
      ]
     },
     "execution_count": 18,
     "metadata": {},
     "output_type": "execute_result"
    }
   ],
   "source": [
    "X_train[0]"
   ]
  },
  {
   "cell_type": "code",
   "execution_count": 19,
   "id": "7eb92a78",
   "metadata": {},
   "outputs": [
    {
     "name": "stdout",
     "output_type": "stream",
     "text": [
      "WARNING:tensorflow:From C:\\Anaconda3\\Lib\\site-packages\\keras\\src\\backend.py:873: The name tf.get_default_graph is deprecated. Please use tf.compat.v1.get_default_graph instead.\n",
      "\n",
      "WARNING:tensorflow:From C:\\Anaconda3\\Lib\\site-packages\\keras\\src\\optimizers\\__init__.py:309: The name tf.train.Optimizer is deprecated. Please use tf.compat.v1.train.Optimizer instead.\n",
      "\n",
      "Epoch 1/5\n",
      "WARNING:tensorflow:From C:\\Anaconda3\\Lib\\site-packages\\keras\\src\\utils\\tf_utils.py:492: The name tf.ragged.RaggedTensorValue is deprecated. Please use tf.compat.v1.ragged.RaggedTensorValue instead.\n",
      "\n",
      "WARNING:tensorflow:From C:\\Anaconda3\\Lib\\site-packages\\keras\\src\\engine\\base_layer_utils.py:384: The name tf.executing_eagerly_outside_functions is deprecated. Please use tf.compat.v1.executing_eagerly_outside_functions instead.\n",
      "\n",
      "1875/1875 [==============================] - 3s 1ms/step - loss: 0.4689 - accuracy: 0.8778\n",
      "Epoch 2/5\n",
      "1875/1875 [==============================] - 3s 2ms/step - loss: 0.3036 - accuracy: 0.9153\n",
      "Epoch 3/5\n",
      "1875/1875 [==============================] - 3s 2ms/step - loss: 0.2837 - accuracy: 0.9206\n",
      "Epoch 4/5\n",
      "1875/1875 [==============================] - 3s 1ms/step - loss: 0.2727 - accuracy: 0.9236\n",
      "Epoch 5/5\n",
      "1875/1875 [==============================] - 3s 1ms/step - loss: 0.2665 - accuracy: 0.9258\n"
     ]
    },
    {
     "data": {
      "text/plain": [
       "<keras.src.callbacks.History at 0x234692198d0>"
      ]
     },
     "execution_count": 19,
     "metadata": {},
     "output_type": "execute_result"
    }
   ],
   "source": [
    "model=keras.Sequential([\n",
    "    keras.layers.Dense(10,input_shape=(784,),activation='sigmoid')\n",
    "])\n",
    "model.compile(\n",
    "    optimizer='adam',\n",
    "    loss='sparse_categorical_crossentropy',\n",
    "    metrics = ['accuracy']\n",
    ")\n",
    "model.fit(X_train_flattened,y_train,epochs=5)"
   ]
  },
  {
   "cell_type": "code",
   "execution_count": 20,
   "id": "07d7607b",
   "metadata": {},
   "outputs": [
    {
     "name": "stdout",
     "output_type": "stream",
     "text": [
      "313/313 [==============================] - 1s 1ms/step - loss: 0.2654 - accuracy: 0.9269\n"
     ]
    },
    {
     "data": {
      "text/plain": [
       "[0.2653866708278656, 0.9269000291824341]"
      ]
     },
     "execution_count": 20,
     "metadata": {},
     "output_type": "execute_result"
    }
   ],
   "source": [
    "model.evaluate(X_test_flattened,y_test)"
   ]
  },
  {
   "cell_type": "code",
   "execution_count": 21,
   "id": "29746de5",
   "metadata": {},
   "outputs": [
    {
     "data": {
      "text/plain": [
       "<matplotlib.image.AxesImage at 0x2347a36f4d0>"
      ]
     },
     "execution_count": 21,
     "metadata": {},
     "output_type": "execute_result"
    },
    {
     "data": {
      "image/png": "[encoded data removed]",
      "text/plain": [
       "<Figure size 480x480 with 1 Axes>"
      ]
     },
     "metadata": {},
     "output_type": "display_data"
    }
   ],
   "source": [
    "plt.matshow(X_test[1])"
   ]
  },
  {
   "cell_type": "code",
   "execution_count": 22,
   "id": "1aaeaecd",
   "metadata": {},
   "outputs": [
    {
     "name": "stdout",
     "output_type": "stream",
     "text": [
      "313/313 [==============================] - 0s 1ms/step\n"
     ]
    }
   ],
   "source": [
    "y_predicted=model.predict(X_test_flattened)"
   ]
  },
  {
   "cell_type": "code",
   "execution_count": 23,
   "id": "81dad6ac",
   "metadata": {},
   "outputs": [
    {
     "data": {
      "text/plain": [
       "array([4.3377811e-01, 3.7874670e-03, 9.9954116e-01, 3.8253039e-01,\n",
       "       5.4392046e-10, 8.5399383e-01, 8.8215834e-01, 1.5004845e-12,\n",
       "       1.5866472e-01, 2.5855815e-09], dtype=float32)"
      ]
     },
     "execution_count": 23,
     "metadata": {},
     "output_type": "execute_result"
    }
   ],
   "source": [
    "y_predicted[1]"
   ]
  },
  {
   "cell_type": "code",
   "execution_count": 24,
   "id": "074b3022",
   "metadata": {},
   "outputs": [
    {
     "data": {
      "text/plain": [
       "2"
      ]
     },
     "execution_count": 24,
     "metadata": {},
     "output_type": "execute_result"
    }
   ],
   "source": [
    "np.argmax(y_predicted[1])"
   ]
  },
  {
   "cell_type": "code",
   "execution_count": 25,
   "id": "2a61eaff",
   "metadata": {},
   "outputs": [
    {
     "data": {
      "text/plain": [
       "array([7, 2, 1, 0, 4], dtype=uint8)"
      ]
     },
     "execution_count": 25,
     "metadata": {},
     "output_type": "execute_result"
    }
   ],
   "source": [
    "y_test[:5]"
   ]
  },
  {
   "cell_type": "code",
   "execution_count": 26,
   "id": "7aa8c7f2",
   "metadata": {},
   "outputs": [],
   "source": [
    "y_predicted_labels=[np.argmax(i) for i in y_predicted]"
   ]
  },
  {
   "cell_type": "code",
   "execution_count": 27,
   "id": "0e6f6171",
   "metadata": {},
   "outputs": [
    {
     "data": {
      "text/plain": [
       "[7, 2, 1, 0, 4]"
      ]
     },
     "execution_count": 27,
     "metadata": {},
     "output_type": "execute_result"
    }
   ],
   "source": [
    "y_predicted_labels[:5]"
   ]
  },
  {
   "cell_type": "code",
   "execution_count": 28,
   "id": "f2514f42",
   "metadata": {
    "scrolled": true
   },
   "outputs": [
    {
     "data": {
      "text/plain": [
       "<tf.Tensor: shape=(10, 10), dtype=int32, numpy=\n",
       "array([[ 962,    0,    2,    2,    0,    5,    6,    2,    1,    0],\n",
       "       [   0, 1118,    3,    2,    0,    1,    4,    2,    5,    0],\n",
       "       [   6,    9,  930,   16,    7,    2,   12,   10,   36,    4],\n",
       "       [   2,    0,   17,  930,    1,   21,    2,    9,   20,    8],\n",
       "       [   2,    1,    5,    1,  923,    0,    8,    4,   10,   28],\n",
       "       [  10,    2,    3,   39,   11,  771,   13,    5,   30,    8],\n",
       "       [  13,    3,    6,    1,    7,   13,  910,    2,    3,    0],\n",
       "       [   1,    6,   22,    8,    8,    0,    0,  946,    2,   35],\n",
       "       [   6,   10,    6,   25,    9,   24,    9,    9,  868,    8],\n",
       "       [  10,    7,    1,   12,   35,    6,    0,   17,   10,  911]])>"
      ]
     },
     "execution_count": 28,
     "metadata": {},
     "output_type": "execute_result"
    }
   ],
   "source": [
    "cm= tf.math.confusion_matrix(labels=y_test,predictions=y_predicted_labels)\n",
    "cm"
   ]
  },
  {
   "cell_type": "code",
   "execution_count": 29,
   "id": "a24708d1",
   "metadata": {},
   "outputs": [
    {
     "data": {
      "text/plain": [
       "Text(95.72222222222221, 0.5, 'Truth')"
      ]
     },
     "execution_count": 29,
     "metadata": {},
     "output_type": "execute_result"
    },
    {
     "data": {
      "image/png": "[encoded data removed]",
      "text/plain": [
       "<Figure size 1000x700 with 2 Axes>"
      ]
     },
     "metadata": {},
     "output_type": "display_data"
    }
   ],
   "source": [
    "import seaborn as sns\n",
    "plt.figure(figsize=(10,7))\n",
    "sns.heatmap(cm,annot=True,fmt='d')\n",
    "plt.xlabel('Predicted')\n",
    "plt.ylabel('Truth')"
   ]
  },
  {
   "cell_type": "code",
   "execution_count": 30,
   "id": "60d7ce84",
   "metadata": {},
   "outputs": [
    {
     "name": "stdout",
     "output_type": "stream",
     "text": [
      "Epoch 1/5\n",
      "1875/1875 [==============================] - 5s 2ms/step - loss: 0.2762 - accuracy: 0.9218\n",
      "Epoch 2/5\n",
      "1875/1875 [==============================] - 5s 3ms/step - loss: 0.1208 - accuracy: 0.9638\n",
      "Epoch 3/5\n",
      "1875/1875 [==============================] - 5s 2ms/step - loss: 0.0829 - accuracy: 0.9752\n",
      "Epoch 4/5\n",
      "1875/1875 [==============================] - 4s 2ms/step - loss: 0.0648 - accuracy: 0.9808\n",
      "Epoch 5/5\n",
      "1875/1875 [==============================] - 4s 2ms/step - loss: 0.0499 - accuracy: 0.9850\n"
     ]
    },
    {
     "data": {
      "text/plain": [
       "<keras.src.callbacks.History at 0x2346f975750>"
      ]
     },
     "execution_count": 30,
     "metadata": {},
     "output_type": "execute_result"
    }
   ],
   "source": [
    "model=keras.Sequential([\n",
    "    keras.layers.Dense(100,input_shape=(784,),activation='relu'),\n",
    "    keras.layers.Dense(10,activation='sigmoid')\n",
    "])\n",
    "model.compile(\n",
    "    optimizer='adam',\n",
    "    loss='sparse_categorical_crossentropy',\n",
    "    metrics = ['accuracy']\n",
    ")\n",
    "model.fit(X_train_flattened,y_train,epochs=5)"
   ]
  },
  {
   "cell_type": "code",
   "execution_count": 31,
   "id": "c081794c",
   "metadata": {},
   "outputs": [
    {
     "name": "stdout",
     "output_type": "stream",
     "text": [
      "313/313 [==============================] - 1s 2ms/step - loss: 0.0845 - accuracy: 0.9740\n"
     ]
    },
    {
     "data": {
      "text/plain": [
       "[0.08449580520391464, 0.9739999771118164]"
      ]
     },
     "execution_count": 31,
     "metadata": {},
     "output_type": "execute_result"
    }
   ],
   "source": [
    "model.evaluate(X_test_flattened,y_test)"
   ]
  },
  {
   "cell_type": "code",
   "execution_count": 32,
   "id": "7e94a6c0",
   "metadata": {},
   "outputs": [
    {
     "name": "stdout",
     "output_type": "stream",
     "text": [
      "313/313 [==============================] - 1s 1ms/step\n"
     ]
    },
    {
     "data": {
      "text/plain": [
       "Text(95.72222222222221, 0.5, 'Truth')"
      ]
     },
     "execution_count": 32,
     "metadata": {},
     "output_type": "execute_result"
    },
    {
     "data": {
      "image/png": "[encoded data removed]",
      "text/plain": [
       "<Figure size 1000x700 with 2 Axes>"
      ]
     },
     "metadata": {},
     "output_type": "display_data"
    }
   ],
   "source": [
    "y_predicted=model.predict(X_test_flattened)\n",
    "y_predicted_labels=[np.argmax(i) for i in y_predicted]\n",
    "cm= tf.math.confusion_matrix(labels=y_test,predictions=y_predicted_labels)\n",
    "\n",
    "import seaborn as sns\n",
    "plt.figure(figsize=(10,7))\n",
    "sns.heatmap(cm,annot=True,fmt='d')\n",
    "plt.xlabel('Predicted')\n",
    "plt.ylabel('Truth')"
   ]
  },
  {
   "cell_type": "code",
   "execution_count": 49,
   "id": "480250e2",
   "metadata": {},
   "outputs": [
    {
     "name": "stdout",
     "output_type": "stream",
     "text": [
      "Epoch 1/10\n",
      "1875/1875 [==============================] - 5s 2ms/step - loss: 0.6654 - accuracy: 0.8300\n",
      "Epoch 2/10\n",
      "1875/1875 [==============================] - 5s 3ms/step - loss: 0.3461 - accuracy: 0.9038\n",
      "Epoch 3/10\n",
      "1875/1875 [==============================] - 5s 3ms/step - loss: 0.2995 - accuracy: 0.9157\n",
      "Epoch 4/10\n",
      "1875/1875 [==============================] - 5s 2ms/step - loss: 0.2709 - accuracy: 0.9236\n",
      "Epoch 5/10\n",
      "1875/1875 [==============================] - 4s 2ms/step - loss: 0.2490 - accuracy: 0.9298\n",
      "Epoch 6/10\n",
      "1875/1875 [==============================] - 4s 2ms/step - loss: 0.2310 - accuracy: 0.9352\n",
      "Epoch 7/10\n",
      "1875/1875 [==============================] - 4s 2ms/step - loss: 0.2153 - accuracy: 0.9394\n",
      "Epoch 8/10\n",
      "1875/1875 [==============================] - 4s 2ms/step - loss: 0.2018 - accuracy: 0.9431\n",
      "Epoch 9/10\n",
      "1875/1875 [==============================] - 4s 2ms/step - loss: 0.1897 - accuracy: 0.9466\n",
      "Epoch 10/10\n",
      "1875/1875 [==============================] - 4s 2ms/step - loss: 0.1788 - accuracy: 0.9497\n"
     ]
    },
    {
     "data": {
      "text/plain": [
       "<keras.src.callbacks.History at 0x23417e16390>"
      ]
     },
     "execution_count": 49,
     "metadata": {},
     "output_type": "execute_result"
    }
   ],
   "source": [
    "model=keras.Sequential([\n",
    "    keras.layers.Flatten(input_shape=(28,28)),\n",
    "    keras.layers.Dense(100,activation='relu'),\n",
    "    keras.layers.Dense(10,activation='sigmoid')\n",
    "])\n",
    "\n",
    "tb_callback=tf.keras.callbacks.TensorBoard(log_dir=\"logs/\",histogram_freq=1)\n",
    "model.compile(\n",
    "    optimizer='SGD',\n",
    "    loss='sparse_categorical_crossentropy',\n",
    "    metrics = ['accuracy']\n",
    ")\n",
    "model.fit(X_train,y_train,epochs=10 , callbacks=[tb_callback])"
   ]
  },
  {
   "cell_type": "code",
   "execution_count": 34,
   "id": "c853ec38",
   "metadata": {},
   "outputs": [],
   "source": [
    "import math\n",
    "def sigma(x):\n",
    "    return 1/(1+math.exp(-x))"
   ]
  },
  {
   "cell_type": "code",
   "execution_count": 35,
   "id": "375453c2",
   "metadata": {},
   "outputs": [
    {
     "data": {
      "text/plain": [
       "0.7310585786300049"
      ]
     },
     "execution_count": 35,
     "metadata": {},
     "output_type": "execute_result"
    }
   ],
   "source": [
    "sigma(1)"
   ]
  },
  {
   "cell_type": "code",
   "execution_count": 36,
   "id": "425172c4",
   "metadata": {},
   "outputs": [
    {
     "data": {
      "text/plain": [
       "1.0"
      ]
     },
     "execution_count": 36,
     "metadata": {},
     "output_type": "execute_result"
    }
   ],
   "source": [
    "sigma(100)"
   ]
  },
  {
   "cell_type": "code",
   "execution_count": 37,
   "id": "dcd08573",
   "metadata": {},
   "outputs": [
    {
     "data": {
      "text/plain": [
       "4.780892883885469e-25"
      ]
     },
     "execution_count": 37,
     "metadata": {},
     "output_type": "execute_result"
    }
   ],
   "source": [
    "sigma(-56)"
   ]
  },
  {
   "cell_type": "code",
   "execution_count": 38,
   "id": "4a86e680",
   "metadata": {},
   "outputs": [],
   "source": [
    "def tanh(x):\n",
    "    return (math.exp(x)-math.exp(-x))/(math.exp(x) + math.exp(-x))"
   ]
  },
  {
   "cell_type": "code",
   "execution_count": 39,
   "id": "0f6da445",
   "metadata": {},
   "outputs": [
    {
     "data": {
      "text/plain": [
       "-1.0"
      ]
     },
     "execution_count": 39,
     "metadata": {},
     "output_type": "execute_result"
    }
   ],
   "source": [
    "tanh(-56)"
   ]
  },
  {
   "cell_type": "code",
   "execution_count": 40,
   "id": "5b7af8a3",
   "metadata": {},
   "outputs": [
    {
     "data": {
      "text/plain": [
       "1.0"
      ]
     },
     "execution_count": 40,
     "metadata": {},
     "output_type": "execute_result"
    }
   ],
   "source": [
    "tanh(56)"
   ]
  },
  {
   "cell_type": "code",
   "execution_count": 41,
   "id": "689ad94f",
   "metadata": {},
   "outputs": [
    {
     "data": {
      "text/plain": [
       "1.0"
      ]
     },
     "execution_count": 41,
     "metadata": {},
     "output_type": "execute_result"
    }
   ],
   "source": [
    "tanh(50)"
   ]
  },
  {
   "cell_type": "code",
   "execution_count": 42,
   "id": "7e1ddbf5",
   "metadata": {},
   "outputs": [
    {
     "data": {
      "text/plain": [
       "0.7615941559557649"
      ]
     },
     "execution_count": 42,
     "metadata": {},
     "output_type": "execute_result"
    }
   ],
   "source": [
    "tanh(1)"
   ]
  },
  {
   "cell_type": "code",
   "execution_count": 43,
   "id": "f44d4bb6",
   "metadata": {},
   "outputs": [],
   "source": [
    "def relu(x):\n",
    "    return max(0,x)"
   ]
  },
  {
   "cell_type": "code",
   "execution_count": 44,
   "id": "821eae9d",
   "metadata": {},
   "outputs": [
    {
     "data": {
      "text/plain": [
       "0"
      ]
     },
     "execution_count": 44,
     "metadata": {},
     "output_type": "execute_result"
    }
   ],
   "source": [
    "relu (-100)"
   ]
  },
  {
   "cell_type": "code",
   "execution_count": 45,
   "id": "13237a0e",
   "metadata": {},
   "outputs": [
    {
     "data": {
      "text/plain": [
       "100"
      ]
     },
     "execution_count": 45,
     "metadata": {},
     "output_type": "execute_result"
    }
   ],
   "source": [
    "relu(100)"
   ]
  },
  {
   "cell_type": "code",
   "execution_count": 46,
   "id": "62d4da5d",
   "metadata": {},
   "outputs": [],
   "source": [
    "def leaky_relu(x):\n",
    "    return max(0.1*x,x)"
   ]
  },
  {
   "cell_type": "code",
   "execution_count": 47,
   "id": "998a3da7",
   "metadata": {},
   "outputs": [
    {
     "data": {
      "text/plain": [
       "-1.0"
      ]
     },
     "execution_count": 47,
     "metadata": {},
     "output_type": "execute_result"
    }
   ],
   "source": [
    "leaky_relu(-10)"
   ]
  },
  {
   "cell_type": "code",
   "execution_count": 48,
   "id": "1c3ceea9",
   "metadata": {},
   "outputs": [
    {
     "data": {
      "text/plain": [
       "10"
      ]
     },
     "execution_count": 48,
     "metadata": {},
     "output_type": "execute_result"
    }
   ],
   "source": [
    "leaky_relu(10)"
   ]
  },
  {
   "cell_type": "code",
   "execution_count": 51,
   "id": "a29b5058-84a7-430f-b93f-d450fff1947a",
   "metadata": {},
   "outputs": [
    {
     "name": "stdout",
     "output_type": "stream",
     "text": [
      "Collecting jupyter-tensorboardNote: you may need to restart the kernel to use updated packages.\n",
      "\n",
      "  Downloading jupyter_tensorboard-0.2.0.tar.gz (15 kB)\n",
      "  Preparing metadata (setup.py): started\n",
      "  Preparing metadata (setup.py): finished with status 'done'\n",
      "Requirement already satisfied: notebook>=5.0 in c:\\anaconda3\\lib\\site-packages (from jupyter-tensorboard) (7.0.6)\n",
      "Requirement already satisfied: jupyter-server<3,>=2.4.0 in c:\\anaconda3\\lib\\site-packages (from notebook>=5.0->jupyter-tensorboard) (2.10.0)\n",
      "Requirement already satisfied: jupyterlab-server<3,>=2.22.1 in c:\\anaconda3\\lib\\site-packages (from notebook>=5.0->jupyter-tensorboard) (2.25.1)\n",
      "Requirement already satisfied: jupyterlab<5,>=4.0.2 in c:\\anaconda3\\lib\\site-packages (from notebook>=5.0->jupyter-tensorboard) (4.0.8)\n",
      "Requirement already satisfied: notebook-shim<0.3,>=0.2 in c:\\anaconda3\\lib\\site-packages (from notebook>=5.0->jupyter-tensorboard) (0.2.2)\n",
      "Requirement already satisfied: tornado>=6.2.0 in c:\\anaconda3\\lib\\site-packages (from notebook>=5.0->jupyter-tensorboard) (6.3.2)\n",
      "Requirement already satisfied: anyio>=3.1.0 in c:\\anaconda3\\lib\\site-packages (from jupyter-server<3,>=2.4.0->notebook>=5.0->jupyter-tensorboard) (3.5.0)\n",
      "Requirement already satisfied: argon2-cffi in c:\\anaconda3\\lib\\site-packages (from jupyter-server<3,>=2.4.0->notebook>=5.0->jupyter-tensorboard) (21.3.0)\n",
      "Requirement already satisfied: jinja2 in c:\\anaconda3\\lib\\site-packages (from jupyter-server<3,>=2.4.0->notebook>=5.0->jupyter-tensorboard) (3.1.2)\n",
      "Requirement already satisfied: jupyter-client>=7.4.4 in c:\\anaconda3\\lib\\site-packages (from jupyter-server<3,>=2.4.0->notebook>=5.0->jupyter-tensorboard) (7.4.9)\n",
      "Requirement already satisfied: jupyter-core!=5.0.*,>=4.12 in c:\\anaconda3\\lib\\site-packages (from jupyter-server<3,>=2.4.0->notebook>=5.0->jupyter-tensorboard) (5.3.0)\n",
      "Requirement already satisfied: jupyter-events>=0.6.0 in c:\\anaconda3\\lib\\site-packages (from jupyter-server<3,>=2.4.0->notebook>=5.0->jupyter-tensorboard) (0.6.3)\n",
      "Requirement already satisfied: jupyter-server-terminals in c:\\anaconda3\\lib\\site-packages (from jupyter-server<3,>=2.4.0->notebook>=5.0->jupyter-tensorboard) (0.4.4)\n",
      "Requirement already satisfied: nbconvert>=6.4.4 in c:\\anaconda3\\lib\\site-packages (from jupyter-server<3,>=2.4.0->notebook>=5.0->jupyter-tensorboard) (6.5.4)\n",
      "Requirement already satisfied: nbformat>=5.3.0 in c:\\anaconda3\\lib\\site-packages (from jupyter-server<3,>=2.4.0->notebook>=5.0->jupyter-tensorboard) (5.9.2)\n",
      "Requirement already satisfied: overrides in c:\\anaconda3\\lib\\site-packages (from jupyter-server<3,>=2.4.0->notebook>=5.0->jupyter-tensorboard) (7.4.0)\n",
      "Requirement already satisfied: packaging in c:\\anaconda3\\lib\\site-packages (from jupyter-server<3,>=2.4.0->notebook>=5.0->jupyter-tensorboard) (23.1)\n",
      "Requirement already satisfied: prometheus-client in c:\\anaconda3\\lib\\site-packages (from jupyter-server<3,>=2.4.0->notebook>=5.0->jupyter-tensorboard) (0.14.1)\n",
      "Requirement already satisfied: pywinpty in c:\\anaconda3\\lib\\site-packages (from jupyter-server<3,>=2.4.0->notebook>=5.0->jupyter-tensorboard) (2.0.10)\n",
      "Requirement already satisfied: pyzmq>=24 in c:\\anaconda3\\lib\\site-packages (from jupyter-server<3,>=2.4.0->notebook>=5.0->jupyter-tensorboard) (25.1.0)\n",
      "Requirement already satisfied: send2trash>=1.8.2 in c:\\anaconda3\\lib\\site-packages (from jupyter-server<3,>=2.4.0->notebook>=5.0->jupyter-tensorboard) (1.8.2)\n",
      "Requirement already satisfied: terminado>=0.8.3 in c:\\anaconda3\\lib\\site-packages (from jupyter-server<3,>=2.4.0->notebook>=5.0->jupyter-tensorboard) (0.17.1)\n",
      "Requirement already satisfied: traitlets>=5.6.0 in c:\\anaconda3\\lib\\site-packages (from jupyter-server<3,>=2.4.0->notebook>=5.0->jupyter-tensorboard) (5.7.1)\n",
      "Requirement already satisfied: websocket-client in c:\\anaconda3\\lib\\site-packages (from jupyter-server<3,>=2.4.0->notebook>=5.0->jupyter-tensorboard) (0.58.0)\n",
      "Requirement already satisfied: async-lru>=1.0.0 in c:\\anaconda3\\lib\\site-packages (from jupyterlab<5,>=4.0.2->notebook>=5.0->jupyter-tensorboard) (2.0.4)\n",
      "Requirement already satisfied: ipykernel in c:\\anaconda3\\lib\\site-packages (from jupyterlab<5,>=4.0.2->notebook>=5.0->jupyter-tensorboard) (6.25.0)\n",
      "Requirement already satisfied: jupyter-lsp>=2.0.0 in c:\\anaconda3\\lib\\site-packages (from jupyterlab<5,>=4.0.2->notebook>=5.0->jupyter-tensorboard) (2.2.0)\n",
      "Requirement already satisfied: babel>=2.10 in c:\\anaconda3\\lib\\site-packages (from jupyterlab-server<3,>=2.22.1->notebook>=5.0->jupyter-tensorboard) (2.11.0)\n",
      "Requirement already satisfied: json5>=0.9.0 in c:\\anaconda3\\lib\\site-packages (from jupyterlab-server<3,>=2.22.1->notebook>=5.0->jupyter-tensorboard) (0.9.6)\n",
      "Requirement already satisfied: jsonschema>=4.18.0 in c:\\anaconda3\\lib\\site-packages (from jupyterlab-server<3,>=2.22.1->notebook>=5.0->jupyter-tensorboard) (4.19.2)\n",
      "Requirement already satisfied: requests>=2.31 in c:\\anaconda3\\lib\\site-packages (from jupyterlab-server<3,>=2.22.1->notebook>=5.0->jupyter-tensorboard) (2.31.0)\n",
      "Requirement already satisfied: idna>=2.8 in c:\\anaconda3\\lib\\site-packages (from anyio>=3.1.0->jupyter-server<3,>=2.4.0->notebook>=5.0->jupyter-tensorboard) (3.4)\n",
      "Requirement already satisfied: sniffio>=1.1 in c:\\anaconda3\\lib\\site-packages (from anyio>=3.1.0->jupyter-server<3,>=2.4.0->notebook>=5.0->jupyter-tensorboard) (1.2.0)\n",
      "Requirement already satisfied: pytz>=2015.7 in c:\\anaconda3\\lib\\site-packages (from babel>=2.10->jupyterlab-server<3,>=2.22.1->notebook>=5.0->jupyter-tensorboard) (2023.3.post1)\n",
      "Requirement already satisfied: MarkupSafe>=2.0 in c:\\anaconda3\\lib\\site-packages (from jinja2->jupyter-server<3,>=2.4.0->notebook>=5.0->jupyter-tensorboard) (2.1.1)\n",
      "Requirement already satisfied: attrs>=22.2.0 in c:\\anaconda3\\lib\\site-packages (from jsonschema>=4.18.0->jupyterlab-server<3,>=2.22.1->notebook>=5.0->jupyter-tensorboard) (23.1.0)\n",
      "Requirement already satisfied: jsonschema-specifications>=2023.03.6 in c:\\anaconda3\\lib\\site-packages (from jsonschema>=4.18.0->jupyterlab-server<3,>=2.22.1->notebook>=5.0->jupyter-tensorboard) (2023.7.1)\n",
      "Requirement already satisfied: referencing>=0.28.4 in c:\\anaconda3\\lib\\site-packages (from jsonschema>=4.18.0->jupyterlab-server<3,>=2.22.1->notebook>=5.0->jupyter-tensorboard) (0.30.2)\n",
      "Requirement already satisfied: rpds-py>=0.7.1 in c:\\anaconda3\\lib\\site-packages (from jsonschema>=4.18.0->jupyterlab-server<3,>=2.22.1->notebook>=5.0->jupyter-tensorboard) (0.10.6)\n",
      "Requirement already satisfied: entrypoints in c:\\anaconda3\\lib\\site-packages (from jupyter-client>=7.4.4->jupyter-server<3,>=2.4.0->notebook>=5.0->jupyter-tensorboard) (0.4)\n",
      "Requirement already satisfied: nest-asyncio>=1.5.4 in c:\\anaconda3\\lib\\site-packages (from jupyter-client>=7.4.4->jupyter-server<3,>=2.4.0->notebook>=5.0->jupyter-tensorboard) (1.5.6)\n",
      "Requirement already satisfied: python-dateutil>=2.8.2 in c:\\anaconda3\\lib\\site-packages (from jupyter-client>=7.4.4->jupyter-server<3,>=2.4.0->notebook>=5.0->jupyter-tensorboard) (2.8.2)\n",
      "Requirement already satisfied: platformdirs>=2.5 in c:\\anaconda3\\lib\\site-packages (from jupyter-core!=5.0.*,>=4.12->jupyter-server<3,>=2.4.0->notebook>=5.0->jupyter-tensorboard) (3.10.0)\n",
      "Requirement already satisfied: pywin32>=300 in c:\\anaconda3\\lib\\site-packages (from jupyter-core!=5.0.*,>=4.12->jupyter-server<3,>=2.4.0->notebook>=5.0->jupyter-tensorboard) (305.1)\n",
      "Requirement already satisfied: python-json-logger>=2.0.4 in c:\\anaconda3\\lib\\site-packages (from jupyter-events>=0.6.0->jupyter-server<3,>=2.4.0->notebook>=5.0->jupyter-tensorboard) (2.0.7)\n",
      "Requirement already satisfied: pyyaml>=5.3 in c:\\anaconda3\\lib\\site-packages (from jupyter-events>=0.6.0->jupyter-server<3,>=2.4.0->notebook>=5.0->jupyter-tensorboard) (6.0)\n",
      "Requirement already satisfied: rfc3339-validator in c:\\anaconda3\\lib\\site-packages (from jupyter-events>=0.6.0->jupyter-server<3,>=2.4.0->notebook>=5.0->jupyter-tensorboard) (0.1.4)\n",
      "Requirement already satisfied: rfc3986-validator>=0.1.1 in c:\\anaconda3\\lib\\site-packages (from jupyter-events>=0.6.0->jupyter-server<3,>=2.4.0->notebook>=5.0->jupyter-tensorboard) (0.1.1)\n",
      "Requirement already satisfied: lxml in c:\\anaconda3\\lib\\site-packages (from nbconvert>=6.4.4->jupyter-server<3,>=2.4.0->notebook>=5.0->jupyter-tensorboard) (4.9.3)\n",
      "Requirement already satisfied: beautifulsoup4 in c:\\anaconda3\\lib\\site-packages (from nbconvert>=6.4.4->jupyter-server<3,>=2.4.0->notebook>=5.0->jupyter-tensorboard) (4.12.2)\n",
      "Requirement already satisfied: bleach in c:\\anaconda3\\lib\\site-packages (from nbconvert>=6.4.4->jupyter-server<3,>=2.4.0->notebook>=5.0->jupyter-tensorboard) (4.1.0)\n",
      "Requirement already satisfied: defusedxml in c:\\anaconda3\\lib\\site-packages (from nbconvert>=6.4.4->jupyter-server<3,>=2.4.0->notebook>=5.0->jupyter-tensorboard) (0.7.1)\n",
      "Requirement already satisfied: jupyterlab-pygments in c:\\anaconda3\\lib\\site-packages (from nbconvert>=6.4.4->jupyter-server<3,>=2.4.0->notebook>=5.0->jupyter-tensorboard) (0.1.2)\n",
      "Requirement already satisfied: mistune<2,>=0.8.1 in c:\\anaconda3\\lib\\site-packages (from nbconvert>=6.4.4->jupyter-server<3,>=2.4.0->notebook>=5.0->jupyter-tensorboard) (0.8.4)\n",
      "Requirement already satisfied: nbclient>=0.5.0 in c:\\anaconda3\\lib\\site-packages (from nbconvert>=6.4.4->jupyter-server<3,>=2.4.0->notebook>=5.0->jupyter-tensorboard) (0.5.13)\n",
      "Requirement already satisfied: pandocfilters>=1.4.1 in c:\\anaconda3\\lib\\site-packages (from nbconvert>=6.4.4->jupyter-server<3,>=2.4.0->notebook>=5.0->jupyter-tensorboard) (1.5.0)\n",
      "Requirement already satisfied: pygments>=2.4.1 in c:\\anaconda3\\lib\\site-packages (from nbconvert>=6.4.4->jupyter-server<3,>=2.4.0->notebook>=5.0->jupyter-tensorboard) (2.15.1)\n",
      "Requirement already satisfied: tinycss2 in c:\\anaconda3\\lib\\site-packages (from nbconvert>=6.4.4->jupyter-server<3,>=2.4.0->notebook>=5.0->jupyter-tensorboard) (1.2.1)\n",
      "Requirement already satisfied: fastjsonschema in c:\\anaconda3\\lib\\site-packages (from nbformat>=5.3.0->jupyter-server<3,>=2.4.0->notebook>=5.0->jupyter-tensorboard) (2.16.2)\n",
      "Requirement already satisfied: charset-normalizer<4,>=2 in c:\\anaconda3\\lib\\site-packages (from requests>=2.31->jupyterlab-server<3,>=2.22.1->notebook>=5.0->jupyter-tensorboard) (2.0.4)\n",
      "Requirement already satisfied: urllib3<3,>=1.21.1 in c:\\anaconda3\\lib\\site-packages (from requests>=2.31->jupyterlab-server<3,>=2.22.1->notebook>=5.0->jupyter-tensorboard) (1.26.16)\n",
      "Requirement already satisfied: certifi>=2017.4.17 in c:\\anaconda3\\lib\\site-packages (from requests>=2.31->jupyterlab-server<3,>=2.22.1->notebook>=5.0->jupyter-tensorboard) (2023.11.17)\n",
      "Requirement already satisfied: argon2-cffi-bindings in c:\\anaconda3\\lib\\site-packages (from argon2-cffi->jupyter-server<3,>=2.4.0->notebook>=5.0->jupyter-tensorboard) (21.2.0)\n",
      "Requirement already satisfied: comm>=0.1.1 in c:\\anaconda3\\lib\\site-packages (from ipykernel->jupyterlab<5,>=4.0.2->notebook>=5.0->jupyter-tensorboard) (0.1.2)\n",
      "Requirement already satisfied: debugpy>=1.6.5 in c:\\anaconda3\\lib\\site-packages (from ipykernel->jupyterlab<5,>=4.0.2->notebook>=5.0->jupyter-tensorboard) (1.6.7)\n",
      "Requirement already satisfied: ipython>=7.23.1 in c:\\anaconda3\\lib\\site-packages (from ipykernel->jupyterlab<5,>=4.0.2->notebook>=5.0->jupyter-tensorboard) (8.15.0)\n",
      "Requirement already satisfied: matplotlib-inline>=0.1 in c:\\anaconda3\\lib\\site-packages (from ipykernel->jupyterlab<5,>=4.0.2->notebook>=5.0->jupyter-tensorboard) (0.1.6)\n",
      "Requirement already satisfied: psutil in c:\\anaconda3\\lib\\site-packages (from ipykernel->jupyterlab<5,>=4.0.2->notebook>=5.0->jupyter-tensorboard) (5.9.0)\n",
      "Requirement already satisfied: six in c:\\anaconda3\\lib\\site-packages (from websocket-client->jupyter-server<3,>=2.4.0->notebook>=5.0->jupyter-tensorboard) (1.16.0)\n",
      "Requirement already satisfied: backcall in c:\\anaconda3\\lib\\site-packages (from ipython>=7.23.1->ipykernel->jupyterlab<5,>=4.0.2->notebook>=5.0->jupyter-tensorboard) (0.2.0)\n",
      "Requirement already satisfied: decorator in c:\\anaconda3\\lib\\site-packages (from ipython>=7.23.1->ipykernel->jupyterlab<5,>=4.0.2->notebook>=5.0->jupyter-tensorboard) (5.1.1)\n",
      "Requirement already satisfied: jedi>=0.16 in c:\\anaconda3\\lib\\site-packages (from ipython>=7.23.1->ipykernel->jupyterlab<5,>=4.0.2->notebook>=5.0->jupyter-tensorboard) (0.18.1)\n",
      "Requirement already satisfied: pickleshare in c:\\anaconda3\\lib\\site-packages (from ipython>=7.23.1->ipykernel->jupyterlab<5,>=4.0.2->notebook>=5.0->jupyter-tensorboard) (0.7.5)\n",
      "Requirement already satisfied: prompt-toolkit!=3.0.37,<3.1.0,>=3.0.30 in c:\\anaconda3\\lib\\site-packages (from ipython>=7.23.1->ipykernel->jupyterlab<5,>=4.0.2->notebook>=5.0->jupyter-tensorboard) (3.0.36)\n",
      "Requirement already satisfied: stack-data in c:\\anaconda3\\lib\\site-packages (from ipython>=7.23.1->ipykernel->jupyterlab<5,>=4.0.2->notebook>=5.0->jupyter-tensorboard) (0.2.0)\n",
      "Requirement already satisfied: colorama in c:\\anaconda3\\lib\\site-packages (from ipython>=7.23.1->ipykernel->jupyterlab<5,>=4.0.2->notebook>=5.0->jupyter-tensorboard) (0.4.6)\n",
      "Collecting fqdn (from jsonschema>=4.18.0->jupyterlab-server<3,>=2.22.1->notebook>=5.0->jupyter-tensorboard)\n",
      "  Downloading fqdn-1.5.1-py3-none-any.whl (9.1 kB)\n",
      "Collecting isoduration (from jsonschema>=4.18.0->jupyterlab-server<3,>=2.22.1->notebook>=5.0->jupyter-tensorboard)\n",
      "  Downloading isoduration-20.11.0-py3-none-any.whl (11 kB)\n",
      "Requirement already satisfied: jsonpointer>1.13 in c:\\anaconda3\\lib\\site-packages (from jsonschema>=4.18.0->jupyterlab-server<3,>=2.22.1->notebook>=5.0->jupyter-tensorboard) (2.1)\n",
      "Collecting uri-template (from jsonschema>=4.18.0->jupyterlab-server<3,>=2.22.1->notebook>=5.0->jupyter-tensorboard)\n",
      "  Obtaining dependency information for uri-template from https://files.pythonhosted.org/packages/e7/00/3fca040d7cf8a32776d3d81a00c8ee7457e00f80c649f1e4a863c8321ae9/uri_template-1.3.0-py3-none-any.whl.metadata\n",
      "  Downloading uri_template-1.3.0-py3-none-any.whl.metadata (8.8 kB)\n",
      "Collecting webcolors>=1.11 (from jsonschema>=4.18.0->jupyterlab-server<3,>=2.22.1->notebook>=5.0->jupyter-tensorboard)\n",
      "  Downloading webcolors-1.13-py3-none-any.whl (14 kB)\n",
      "Requirement already satisfied: cffi>=1.0.1 in c:\\anaconda3\\lib\\site-packages (from argon2-cffi-bindings->argon2-cffi->jupyter-server<3,>=2.4.0->notebook>=5.0->jupyter-tensorboard) (1.15.1)\n",
      "Requirement already satisfied: soupsieve>1.2 in c:\\anaconda3\\lib\\site-packages (from beautifulsoup4->nbconvert>=6.4.4->jupyter-server<3,>=2.4.0->notebook>=5.0->jupyter-tensorboard) (2.4)\n",
      "Requirement already satisfied: webencodings in c:\\anaconda3\\lib\\site-packages (from bleach->nbconvert>=6.4.4->jupyter-server<3,>=2.4.0->notebook>=5.0->jupyter-tensorboard) (0.5.1)\n",
      "Requirement already satisfied: pycparser in c:\\anaconda3\\lib\\site-packages (from cffi>=1.0.1->argon2-cffi-bindings->argon2-cffi->jupyter-server<3,>=2.4.0->notebook>=5.0->jupyter-tensorboard) (2.21)\n",
      "Requirement already satisfied: parso<0.9.0,>=0.8.0 in c:\\anaconda3\\lib\\site-packages (from jedi>=0.16->ipython>=7.23.1->ipykernel->jupyterlab<5,>=4.0.2->notebook>=5.0->jupyter-tensorboard) (0.8.3)\n",
      "Requirement already satisfied: wcwidth in c:\\anaconda3\\lib\\site-packages (from prompt-toolkit!=3.0.37,<3.1.0,>=3.0.30->ipython>=7.23.1->ipykernel->jupyterlab<5,>=4.0.2->notebook>=5.0->jupyter-tensorboard) (0.2.5)\n",
      "Requirement already satisfied: arrow>=0.15.0 in c:\\anaconda3\\lib\\site-packages (from isoduration->jsonschema>=4.18.0->jupyterlab-server<3,>=2.22.1->notebook>=5.0->jupyter-tensorboard) (1.2.3)\n",
      "Requirement already satisfied: executing in c:\\anaconda3\\lib\\site-packages (from stack-data->ipython>=7.23.1->ipykernel->jupyterlab<5,>=4.0.2->notebook>=5.0->jupyter-tensorboard) (0.8.3)\n",
      "Requirement already satisfied: asttokens in c:\\anaconda3\\lib\\site-packages (from stack-data->ipython>=7.23.1->ipykernel->jupyterlab<5,>=4.0.2->notebook>=5.0->jupyter-tensorboard) (2.0.5)\n",
      "Requirement already satisfied: pure-eval in c:\\anaconda3\\lib\\site-packages (from stack-data->ipython>=7.23.1->ipykernel->jupyterlab<5,>=4.0.2->notebook>=5.0->jupyter-tensorboard) (0.2.2)\n",
      "Downloading uri_template-1.3.0-py3-none-any.whl (11 kB)\n",
      "Building wheels for collected packages: jupyter-tensorboard\n",
      "  Building wheel for jupyter-tensorboard (setup.py): started\n",
      "  Building wheel for jupyter-tensorboard (setup.py): finished with status 'error'\n",
      "  Running setup.py clean for jupyter-tensorboard\n",
      "Failed to build jupyter-tensorboard\n"
     ]
    },
    {
     "name": "stderr",
     "output_type": "stream",
     "text": [
      "  error: subprocess-exited-with-error\n",
      "  \n",
      "  python setup.py bdist_wheel did not run successfully.\n",
      "  exit code: 1\n",
      "  \n",
      "  [97 lines of output]\n",
      "  running bdist_wheel\n",
      "  running build\n",
      "  running build_py\n",
      "  creating build\n",
      "  creating build\\lib\n",
      "  creating build\\lib\\jupyter_tensorboard\n",
      "  copying jupyter_tensorboard\\api_handlers.py -> build\\lib\\jupyter_tensorboard\n",
      "  copying jupyter_tensorboard\\application.py -> build\\lib\\jupyter_tensorboard\n",
      "  copying jupyter_tensorboard\\handlers.py -> build\\lib\\jupyter_tensorboard\n",
      "  copying jupyter_tensorboard\\tensorboard_manager.py -> build\\lib\\jupyter_tensorboard\n",
      "  copying jupyter_tensorboard\\__init__.py -> build\\lib\\jupyter_tensorboard\n",
      "  creating build\\lib\\jupyter_tensorboard\\static\n",
      "  copying jupyter_tensorboard\\static\\style.css -> build\\lib\\jupyter_tensorboard\\static\n",
      "  copying jupyter_tensorboard\\static\\tensorboardlist.js -> build\\lib\\jupyter_tensorboard\\static\n",
      "  copying jupyter_tensorboard\\static\\tree.js -> build\\lib\\jupyter_tensorboard\\static\n",
      "  running build_scripts\n",
      "  creating build\\scripts-3.11\n",
      "  copying and adjusting scripts\\jupyter-tensorboard -> build\\scripts-3.11\n",
      "  C:\\Anaconda3\\Lib\\site-packages\\setuptools\\_distutils\\cmd.py:66: SetuptoolsDeprecationWarning: setup.py install is deprecated.\n",
      "  !!\n",
      "  \n",
      "          ********************************************************************************\n",
      "          Please avoid running ``setup.py`` directly.\n",
      "          Instead, use pypa/build, pypa/installer or other\n",
      "          standards-based tools.\n",
      "  \n",
      "          See https://blog.ganssle.io/articles/2021/10/setup-py-deprecated.html for details.\n",
      "          ********************************************************************************\n",
      "  \n",
      "  !!\n",
      "    self.initialize_options()\n",
      "  installing to build\\bdist.win-amd64\\wheel\n",
      "  running install\n",
      "  running install_lib\n",
      "  creating build\\bdist.win-amd64\n",
      "  creating build\\bdist.win-amd64\\wheel\n",
      "  creating build\\bdist.win-amd64\\wheel\\jupyter_tensorboard\n",
      "  copying build\\lib\\jupyter_tensorboard\\api_handlers.py -> build\\bdist.win-amd64\\wheel\\.\\jupyter_tensorboard\n",
      "  copying build\\lib\\jupyter_tensorboard\\application.py -> build\\bdist.win-amd64\\wheel\\.\\jupyter_tensorboard\n",
      "  copying build\\lib\\jupyter_tensorboard\\handlers.py -> build\\bdist.win-amd64\\wheel\\.\\jupyter_tensorboard\n",
      "  creating build\\bdist.win-amd64\\wheel\\jupyter_tensorboard\\static\n",
      "  copying build\\lib\\jupyter_tensorboard\\static\\style.css -> build\\bdist.win-amd64\\wheel\\.\\jupyter_tensorboard\\static\n",
      "  copying build\\lib\\jupyter_tensorboard\\static\\tensorboardlist.js -> build\\bdist.win-amd64\\wheel\\.\\jupyter_tensorboard\\static\n",
      "  copying build\\lib\\jupyter_tensorboard\\static\\tree.js -> build\\bdist.win-amd64\\wheel\\.\\jupyter_tensorboard\\static\n",
      "  copying build\\lib\\jupyter_tensorboard\\tensorboard_manager.py -> build\\bdist.win-amd64\\wheel\\.\\jupyter_tensorboard\n",
      "  copying build\\lib\\jupyter_tensorboard\\__init__.py -> build\\bdist.win-amd64\\wheel\\.\\jupyter_tensorboard\n",
      "  running install_egg_info\n",
      "  running egg_info\n",
      "  writing jupyter_tensorboard.egg-info\\PKG-INFO\n",
      "  writing dependency_links to jupyter_tensorboard.egg-info\\dependency_links.txt\n",
      "  writing entry points to jupyter_tensorboard.egg-info\\entry_points.txt\n",
      "  writing requirements to jupyter_tensorboard.egg-info\\requires.txt\n",
      "  writing top-level names to jupyter_tensorboard.egg-info\\top_level.txt\n",
      "  reading manifest file 'jupyter_tensorboard.egg-info\\SOURCES.txt'\n",
      "  writing manifest file 'jupyter_tensorboard.egg-info\\SOURCES.txt'\n",
      "  Copying jupyter_tensorboard.egg-info to build\\bdist.win-amd64\\wheel\\.\\jupyter_tensorboard-0.2.0-py3.11.egg-info\n",
      "  running install_scripts\n",
      "  creating build\\bdist.win-amd64\\wheel\\jupyter_tensorboard-0.2.0.data\n",
      "  creating build\\bdist.win-amd64\\wheel\\jupyter_tensorboard-0.2.0.data\\scripts\n",
      "  copying build\\scripts-3.11\\jupyter-tensorboard -> build\\bdist.win-amd64\\wheel\\jupyter_tensorboard-0.2.0.data\\scripts\n",
      "  Traceback (most recent call last):\n",
      "    File \"<string>\", line 2, in <module>\n",
      "    File \"<pip-setuptools-caller>\", line 34, in <module>\n",
      "    File \"C:\\Users\\Hamza Khalid\\AppData\\Local\\Temp\\pip-install-ooatqm7x\\jupyter-tensorboard_0a9c093c48034d6899e8d8b88873eead\\setup.py\", line 52, in <module>\n",
      "      setup(\n",
      "    File \"C:\\Anaconda3\\Lib\\site-packages\\setuptools\\__init__.py\", line 107, in setup\n",
      "      return distutils.core.setup(**attrs)\n",
      "             ^^^^^^^^^^^^^^^^^^^^^^^^^^^^^\n",
      "    File \"C:\\Anaconda3\\Lib\\site-packages\\setuptools\\_distutils\\core.py\", line 185, in setup\n",
      "      return run_commands(dist)\n",
      "             ^^^^^^^^^^^^^^^^^^\n",
      "    File \"C:\\Anaconda3\\Lib\\site-packages\\setuptools\\_distutils\\core.py\", line 201, in run_commands\n",
      "      dist.run_commands()\n",
      "    File \"C:\\Anaconda3\\Lib\\site-packages\\setuptools\\_distutils\\dist.py\", line 969, in run_commands\n",
      "      self.run_command(cmd)\n",
      "    File \"C:\\Anaconda3\\Lib\\site-packages\\setuptools\\dist.py\", line 1234, in run_command\n",
      "      super().run_command(command)\n",
      "    File \"C:\\Anaconda3\\Lib\\site-packages\\setuptools\\_distutils\\dist.py\", line 988, in run_command\n",
      "      cmd_obj.run()\n",
      "    File \"C:\\Anaconda3\\Lib\\site-packages\\wheel\\bdist_wheel.py\", line 360, in run\n",
      "      self.run_command(\"install\")\n",
      "    File \"C:\\Anaconda3\\Lib\\site-packages\\setuptools\\_distutils\\cmd.py\", line 318, in run_command\n",
      "      self.distribution.run_command(command)\n",
      "    File \"C:\\Anaconda3\\Lib\\site-packages\\setuptools\\dist.py\", line 1234, in run_command\n",
      "      super().run_command(command)\n",
      "    File \"C:\\Anaconda3\\Lib\\site-packages\\setuptools\\_distutils\\dist.py\", line 988, in run_command\n",
      "      cmd_obj.run()\n",
      "    File \"C:\\Users\\Hamza Khalid\\AppData\\Local\\Temp\\pip-install-ooatqm7x\\jupyter-tensorboard_0a9c093c48034d6899e8d8b88873eead\\setup.py\", line 47, in run\n",
      "      enable_extension_after_install()\n",
      "    File \"C:\\Users\\Hamza Khalid\\AppData\\Local\\Temp\\pip-install-ooatqm7x\\jupyter-tensorboard_0a9c093c48034d6899e8d8b88873eead\\setup.py\", line 30, in enable_extension_after_install\n",
      "      from jupyter_tensorboard.application import (\n",
      "    File \"C:\\Users\\Hamza Khalid\\AppData\\Local\\Temp\\pip-install-ooatqm7x\\jupyter-tensorboard_0a9c093c48034d6899e8d8b88873eead\\jupyter_tensorboard\\__init__.py\", line 3, in <module>\n",
      "      from .handlers import load_jupyter_server_extension   # noqa\n",
      "      ^^^^^^^^^^^^^^^^^^^^^^^^^^^^^^^^^^^^^^^^^^^^^^^^^^^\n",
      "    File \"C:\\Users\\Hamza Khalid\\AppData\\Local\\Temp\\pip-install-ooatqm7x\\jupyter-tensorboard_0a9c093c48034d6899e8d8b88873eead\\jupyter_tensorboard\\handlers.py\", line 5, in <module>\n",
      "      from notebook.base.handlers import IPythonHandler\n",
      "  ModuleNotFoundError: No module named 'notebook.base'\n",
      "  [end of output]\n",
      "  \n",
      "  note: This error originates from a subprocess, and is likely not a problem with pip.\n",
      "  ERROR: Failed building wheel for jupyter-tensorboard\n",
      "ERROR: Could not build wheels for jupyter-tensorboard, which is required to install pyproject.toml-based projects\n"
     ]
    }
   ],
   "source": [
    "pip install jupyter-tensorboard\n"
   ]
  },
  {
   "cell_type": "code",
   "execution_count": 52,
   "id": "43ad5344-5ef4-4637-901f-bb5f08175442",
   "metadata": {},
   "outputs": [],
   "source": [
    "%load_ext tensorboard\n"
   ]
  },
  {
   "cell_type": "code",
   "execution_count": 53,
   "id": "5bf2847a-3b99-45e1-a3d5-d27a12e8106f",
   "metadata": {},
   "outputs": [
    {
     "data": {
      "text/html": [
       "\n",
       "      <iframe id=\"tensorboard-frame-ddad7bc436e2f066\" width=\"100%\" height=\"800\" frameborder=\"0\">\n",
       "      </iframe>\n",
       "      <script>\n",
       "        (function() {\n",
       "          const frame = document.getElementById(\"tensorboard-frame-ddad7bc436e2f066\");\n",
       "          const url = new URL(\"/\", window.location);\n",
       "          const port = 6006;\n",
       "          if (port) {\n",
       "            url.port = port;\n",
       "          }\n",
       "          frame.src = url;\n",
       "        })();\n",
       "      </script>\n",
       "    "
      ],
      "text/plain": [
       "<IPython.core.display.HTML object>"
      ]
     },
     "metadata": {},
     "output_type": "display_data"
    }
   ],
   "source": [
    "%tensorboard --logdir logs/\n"
   ]
  },
  {
   "cell_type": "code",
   "execution_count": null,
   "id": "9c35161b-bc2f-4da7-8df3-ad9ae048593c",
   "metadata": {},
   "outputs": [],
   "source": []
  }
 ],
 "metadata": {
  "kernelspec": {
   "display_name": "Python 3 (ipykernel)",
   "language": "python",
   "name": "python3"
  },
  "language_info": {
   "codemirror_mode": {
    "name": "ipython",
    "version": 3
   },
   "file_extension": ".py",
   "mimetype": "text/x-python",
   "name": "python",
   "nbconvert_exporter": "python",
   "pygments_lexer": "ipython3",
   "version": "3.11.5"
  }
 },
 "nbformat": 4,
 "nbformat_minor": 5
}
